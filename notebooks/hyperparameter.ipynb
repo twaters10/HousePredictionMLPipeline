{
 "cells": [
  {
   "cell_type": "code",
   "execution_count": 1,
   "metadata": {},
   "outputs": [
    {
     "name": "stderr",
     "output_type": "stream",
     "text": [
      "2025-08-12 18:15:05,986 - root - INFO - Starting S3CSVReader...\n",
      "2025-08-12 18:15:05,987 - steps.s3_ingest_data - INFO - Initializing S3 client with explicit AWS access keys.\n",
      "2025-08-12 18:15:06,343 - steps.s3_ingest_data - INFO - S3CSVReader initialized for bucket 'housepred-data' in region 'us-east-1'.\n",
      "2025-08-12 18:15:06,344 - steps.s3_ingest_data - INFO - Attempting to read 'House_Price_Prediction_Dataset.csv' from bucket 'housepred-data' with encoding 'utf-8'.\n",
      "2025-08-12 18:15:06,563 - steps.s3_ingest_data - INFO - Successfully fetched object 'House_Price_Prediction_Dataset.csv'.\n",
      "2025-08-12 18:15:06,599 - steps.s3_ingest_data - INFO - Successfully loaded 'House_Price_Prediction_Dataset.csv' into DataFrame. Shape: (2000, 10)\n",
      "2025-08-12 18:15:06,600 - root - INFO - Starting data cleaning process...\n",
      "2025-08-12 18:15:06,607 - root - INFO - Data preprocessing completed successfully.\n",
      "2025-08-12 18:15:06,608 - root - INFO - Dividing data into training and validation sets...\n",
      "2025-08-12 18:15:06,611 - root - INFO - Data splitting completed successfully.\n"
     ]
    }
   ],
   "source": [
    "import boto3\n",
    "import pandas as pd\n",
    "import os\n",
    "import io\n",
    "import sys\n",
    "\n",
    "# Configuration Access Keys\n",
    "current_dir = os.getcwd()\n",
    "project_root_dir = os.path.dirname(current_dir)\n",
    "sys.path.insert(0, project_root_dir)\n",
    "\n",
    "from steps.s3_ingest_data import *\n",
    "from steps.clean_data import *\n",
    "from config.access_keys import *\n",
    "import pandas as pd\n",
    "import logging\n",
    "if __name__ == \"__main__\":\n",
    "    logging.info(\"Starting S3CSVReader...\")\n",
    "    reader = S3CSVReader(bucket_name=S3_BUCKET_NAME, region_name=AWS_REGION, \n",
    "                         aws_access_key_id=S3_AWS_ACCESS_KEY_ID, aws_secret_access_key=S3_AWS_SECRET_ACCESS_KEY)\n",
    "    # Read the CSV file from S3\n",
    "    df = reader.read_csv(s3_key=S3_KEY, encoding='utf-8')\n",
    "    \n",
    "    # Clean, transform, and split the data.\n",
    "    processed_df = clean_data(df)\n",
    "    X_train, X_val, y_train, y_val = split_data(processed_df)"
   ]
  },
  {
   "cell_type": "code",
   "execution_count": 4,
   "metadata": {},
   "outputs": [
    {
     "name": "stdout",
     "output_type": "stream",
     "text": [
      "  0%|          | 0/50 [00:00<?, ?trial/s, best loss=?]"
     ]
    },
    {
     "name": "stderr",
     "output_type": "stream",
     "text": [
      "2025-08-12 18:24:56,715 - hyperopt.tpe - INFO - build_posterior_wrapper took 0.004969 seconds\n",
      "2025-08-12 18:24:56,715 - hyperopt.tpe - INFO - TPE using 0 trials\n",
      "2025/08/12 18:24:56 WARNING mlflow.utils.autologging_utils: MLflow autologging encountered a warning: \"/Users/tawate/Documents/HousePredictionMLPipeline/.venv/lib/python3.12/site-packages/mlflow/types/utils.py:452: UserWarning: Hint: Inferred schema contains integer column(s). Integer columns in Python cannot represent missing values. If your input data contains missing values at inference time, it will be encoded as floats and will cause a schema enforcement error. The best way to avoid this problem is to infer the model schema based on a realistic data sample (training dataset) that includes missing values. Alternatively, you can declare integer columns as doubles (float64) whenever these columns may have missing values. See `Handling Integers With Missing Values <https://www.mlflow.org/docs/latest/models.html#handling-integers-with-missing-values>`_ for more details.\"\n",
      "\n",
      "2025/08/12 18:24:56 WARNING mlflow.utils.autologging_utils: MLflow autologging encountered a warning: \"/Users/tawate/Documents/HousePredictionMLPipeline/.venv/lib/python3.12/site-packages/mlflow/types/utils.py:452: UserWarning: Hint: Inferred schema contains integer column(s). Integer columns in Python cannot represent missing values. If your input data contains missing values at inference time, it will be encoded as floats and will cause a schema enforcement error. The best way to avoid this problem is to infer the model schema based on a realistic data sample (training dataset) that includes missing values. Alternatively, you can declare integer columns as doubles (float64) whenever these columns may have missing values. See `Handling Integers With Missing Values <https://www.mlflow.org/docs/latest/models.html#handling-integers-with-missing-values>`_ for more details.\"\n",
      "\n"
     ]
    },
    {
     "name": "stdout",
     "output_type": "stream",
     "text": [
      "🏃 View run youthful-gnat-961 at: http://127.0.0.1:8080/#/experiments/0/runs/ff228bf9e0d446b89bb90d00c32f6dad\n",
      "\n",
      "🧪 View experiment at: http://127.0.0.1:8080/#/experiments/0\n",
      "\n",
      "  2%|▏         | 1/50 [00:07<06:14,  7.64s/trial, best loss: 0.0006643596864430723]"
     ]
    },
    {
     "name": "stderr",
     "output_type": "stream",
     "text": [
      "2025-08-12 18:25:04,359 - hyperopt.tpe - INFO - build_posterior_wrapper took 0.007073 seconds\n",
      "2025-08-12 18:25:04,360 - hyperopt.tpe - INFO - TPE using 1/1 trials with best loss 0.000664\n",
      "2025/08/12 18:25:04 WARNING mlflow.utils.autologging_utils: MLflow autologging encountered a warning: \"/Users/tawate/Documents/HousePredictionMLPipeline/.venv/lib/python3.12/site-packages/mlflow/types/utils.py:452: UserWarning: Hint: Inferred schema contains integer column(s). Integer columns in Python cannot represent missing values. If your input data contains missing values at inference time, it will be encoded as floats and will cause a schema enforcement error. The best way to avoid this problem is to infer the model schema based on a realistic data sample (training dataset) that includes missing values. Alternatively, you can declare integer columns as doubles (float64) whenever these columns may have missing values. See `Handling Integers With Missing Values <https://www.mlflow.org/docs/latest/models.html#handling-integers-with-missing-values>`_ for more details.\"\n",
      "\n",
      "2025/08/12 18:25:04 WARNING mlflow.utils.autologging_utils: MLflow autologging encountered a warning: \"/Users/tawate/Documents/HousePredictionMLPipeline/.venv/lib/python3.12/site-packages/mlflow/types/utils.py:452: UserWarning: Hint: Inferred schema contains integer column(s). Integer columns in Python cannot represent missing values. If your input data contains missing values at inference time, it will be encoded as floats and will cause a schema enforcement error. The best way to avoid this problem is to infer the model schema based on a realistic data sample (training dataset) that includes missing values. Alternatively, you can declare integer columns as doubles (float64) whenever these columns may have missing values. See `Handling Integers With Missing Values <https://www.mlflow.org/docs/latest/models.html#handling-integers-with-missing-values>`_ for more details.\"\n",
      "\n"
     ]
    },
    {
     "name": "stdout",
     "output_type": "stream",
     "text": [
      "🏃 View run redolent-squid-972 at: http://127.0.0.1:8080/#/experiments/0/runs/47b70288e2674c1fa638eb95219bd1df\n",
      "\n",
      "🧪 View experiment at: http://127.0.0.1:8080/#/experiments/0                       \n",
      "\n",
      "  4%|▍         | 2/50 [00:12<04:43,  5.90s/trial, best loss: 0.0006643596864430723]"
     ]
    },
    {
     "name": "stderr",
     "output_type": "stream",
     "text": [
      "2025-08-12 18:25:09,044 - hyperopt.tpe - INFO - build_posterior_wrapper took 0.007136 seconds\n",
      "2025-08-12 18:25:09,045 - hyperopt.tpe - INFO - TPE using 2/2 trials with best loss 0.000664\n",
      "2025/08/12 18:25:09 WARNING mlflow.utils.autologging_utils: MLflow autologging encountered a warning: \"/Users/tawate/Documents/HousePredictionMLPipeline/.venv/lib/python3.12/site-packages/mlflow/types/utils.py:452: UserWarning: Hint: Inferred schema contains integer column(s). Integer columns in Python cannot represent missing values. If your input data contains missing values at inference time, it will be encoded as floats and will cause a schema enforcement error. The best way to avoid this problem is to infer the model schema based on a realistic data sample (training dataset) that includes missing values. Alternatively, you can declare integer columns as doubles (float64) whenever these columns may have missing values. See `Handling Integers With Missing Values <https://www.mlflow.org/docs/latest/models.html#handling-integers-with-missing-values>`_ for more details.\"\n",
      "\n",
      "2025/08/12 18:25:09 WARNING mlflow.utils.autologging_utils: MLflow autologging encountered a warning: \"/Users/tawate/Documents/HousePredictionMLPipeline/.venv/lib/python3.12/site-packages/mlflow/types/utils.py:452: UserWarning: Hint: Inferred schema contains integer column(s). Integer columns in Python cannot represent missing values. If your input data contains missing values at inference time, it will be encoded as floats and will cause a schema enforcement error. The best way to avoid this problem is to infer the model schema based on a realistic data sample (training dataset) that includes missing values. Alternatively, you can declare integer columns as doubles (float64) whenever these columns may have missing values. See `Handling Integers With Missing Values <https://www.mlflow.org/docs/latest/models.html#handling-integers-with-missing-values>`_ for more details.\"\n",
      "\n"
     ]
    },
    {
     "name": "stdout",
     "output_type": "stream",
     "text": [
      "🏃 View run puzzled-owl-504 at: http://127.0.0.1:8080/#/experiments/0/runs/6247e50000024438959d43d41ef4898a\n",
      "\n",
      "🧪 View experiment at: http://127.0.0.1:8080/#/experiments/0                       \n",
      "\n",
      "  6%|▌         | 3/50 [00:16<03:59,  5.10s/trial, best loss: 0.0006643596864430723]"
     ]
    },
    {
     "name": "stderr",
     "output_type": "stream",
     "text": [
      "2025-08-12 18:25:13,197 - hyperopt.tpe - INFO - build_posterior_wrapper took 0.005123 seconds\n",
      "2025-08-12 18:25:13,198 - hyperopt.tpe - INFO - TPE using 3/3 trials with best loss 0.000664\n",
      "2025/08/12 18:25:13 WARNING mlflow.utils.autologging_utils: MLflow autologging encountered a warning: \"/Users/tawate/Documents/HousePredictionMLPipeline/.venv/lib/python3.12/site-packages/mlflow/types/utils.py:452: UserWarning: Hint: Inferred schema contains integer column(s). Integer columns in Python cannot represent missing values. If your input data contains missing values at inference time, it will be encoded as floats and will cause a schema enforcement error. The best way to avoid this problem is to infer the model schema based on a realistic data sample (training dataset) that includes missing values. Alternatively, you can declare integer columns as doubles (float64) whenever these columns may have missing values. See `Handling Integers With Missing Values <https://www.mlflow.org/docs/latest/models.html#handling-integers-with-missing-values>`_ for more details.\"\n",
      "\n",
      "2025/08/12 18:25:13 WARNING mlflow.utils.autologging_utils: MLflow autologging encountered a warning: \"/Users/tawate/Documents/HousePredictionMLPipeline/.venv/lib/python3.12/site-packages/mlflow/types/utils.py:452: UserWarning: Hint: Inferred schema contains integer column(s). Integer columns in Python cannot represent missing values. If your input data contains missing values at inference time, it will be encoded as floats and will cause a schema enforcement error. The best way to avoid this problem is to infer the model schema based on a realistic data sample (training dataset) that includes missing values. Alternatively, you can declare integer columns as doubles (float64) whenever these columns may have missing values. See `Handling Integers With Missing Values <https://www.mlflow.org/docs/latest/models.html#handling-integers-with-missing-values>`_ for more details.\"\n",
      "\n"
     ]
    },
    {
     "name": "stdout",
     "output_type": "stream",
     "text": [
      "🏃 View run enthused-ape-161 at: http://127.0.0.1:8080/#/experiments/0/runs/7e00563479ab4f42a1ca90e74bee7206\n",
      "\n",
      "🧪 View experiment at: http://127.0.0.1:8080/#/experiments/0                       \n",
      "\n",
      "  8%|▊         | 4/50 [00:21<03:49,  4.98s/trial, best loss: 0.0006643596864430723]"
     ]
    },
    {
     "name": "stderr",
     "output_type": "stream",
     "text": [
      "2025-08-12 18:25:17,991 - hyperopt.tpe - INFO - build_posterior_wrapper took 0.006628 seconds\n",
      "2025-08-12 18:25:17,992 - hyperopt.tpe - INFO - TPE using 4/4 trials with best loss 0.000664\n",
      "2025/08/12 18:25:18 WARNING mlflow.utils.autologging_utils: MLflow autologging encountered a warning: \"/Users/tawate/Documents/HousePredictionMLPipeline/.venv/lib/python3.12/site-packages/mlflow/types/utils.py:452: UserWarning: Hint: Inferred schema contains integer column(s). Integer columns in Python cannot represent missing values. If your input data contains missing values at inference time, it will be encoded as floats and will cause a schema enforcement error. The best way to avoid this problem is to infer the model schema based on a realistic data sample (training dataset) that includes missing values. Alternatively, you can declare integer columns as doubles (float64) whenever these columns may have missing values. See `Handling Integers With Missing Values <https://www.mlflow.org/docs/latest/models.html#handling-integers-with-missing-values>`_ for more details.\"\n",
      "\n",
      "2025/08/12 18:25:18 WARNING mlflow.utils.autologging_utils: MLflow autologging encountered a warning: \"/Users/tawate/Documents/HousePredictionMLPipeline/.venv/lib/python3.12/site-packages/mlflow/types/utils.py:452: UserWarning: Hint: Inferred schema contains integer column(s). Integer columns in Python cannot represent missing values. If your input data contains missing values at inference time, it will be encoded as floats and will cause a schema enforcement error. The best way to avoid this problem is to infer the model schema based on a realistic data sample (training dataset) that includes missing values. Alternatively, you can declare integer columns as doubles (float64) whenever these columns may have missing values. See `Handling Integers With Missing Values <https://www.mlflow.org/docs/latest/models.html#handling-integers-with-missing-values>`_ for more details.\"\n",
      "\n"
     ]
    },
    {
     "name": "stdout",
     "output_type": "stream",
     "text": [
      "🏃 View run loud-trout-170 at: http://127.0.0.1:8080/#/experiments/0/runs/f721377f883c4fde8b18b56241a1023c\n",
      "\n",
      "🧪 View experiment at: http://127.0.0.1:8080/#/experiments/0                       \n",
      "\n",
      " 10%|█         | 5/50 [00:25<03:31,  4.70s/trial, best loss: 0.0006643596864430723]"
     ]
    },
    {
     "name": "stderr",
     "output_type": "stream",
     "text": [
      "2025-08-12 18:25:22,181 - hyperopt.tpe - INFO - build_posterior_wrapper took 0.006193 seconds\n",
      "2025-08-12 18:25:22,182 - hyperopt.tpe - INFO - TPE using 5/5 trials with best loss 0.000664\n",
      "2025/08/12 18:25:22 WARNING mlflow.utils.autologging_utils: MLflow autologging encountered a warning: \"/Users/tawate/Documents/HousePredictionMLPipeline/.venv/lib/python3.12/site-packages/mlflow/types/utils.py:452: UserWarning: Hint: Inferred schema contains integer column(s). Integer columns in Python cannot represent missing values. If your input data contains missing values at inference time, it will be encoded as floats and will cause a schema enforcement error. The best way to avoid this problem is to infer the model schema based on a realistic data sample (training dataset) that includes missing values. Alternatively, you can declare integer columns as doubles (float64) whenever these columns may have missing values. See `Handling Integers With Missing Values <https://www.mlflow.org/docs/latest/models.html#handling-integers-with-missing-values>`_ for more details.\"\n",
      "\n",
      "2025/08/12 18:25:22 WARNING mlflow.utils.autologging_utils: MLflow autologging encountered a warning: \"/Users/tawate/Documents/HousePredictionMLPipeline/.venv/lib/python3.12/site-packages/mlflow/types/utils.py:452: UserWarning: Hint: Inferred schema contains integer column(s). Integer columns in Python cannot represent missing values. If your input data contains missing values at inference time, it will be encoded as floats and will cause a schema enforcement error. The best way to avoid this problem is to infer the model schema based on a realistic data sample (training dataset) that includes missing values. Alternatively, you can declare integer columns as doubles (float64) whenever these columns may have missing values. See `Handling Integers With Missing Values <https://www.mlflow.org/docs/latest/models.html#handling-integers-with-missing-values>`_ for more details.\"\n",
      "\n"
     ]
    },
    {
     "name": "stdout",
     "output_type": "stream",
     "text": [
      "🏃 View run useful-pig-233 at: http://127.0.0.1:8080/#/experiments/0/runs/6dcb05d8b4124671859acc31e7824da9\n",
      "\n",
      "🧪 View experiment at: http://127.0.0.1:8080/#/experiments/0                       \n",
      "\n",
      " 12%|█▏        | 6/50 [00:29<03:15,  4.45s/trial, best loss: 0.0006643596864430723]"
     ]
    },
    {
     "name": "stderr",
     "output_type": "stream",
     "text": [
      "2025-08-12 18:25:26,159 - hyperopt.tpe - INFO - build_posterior_wrapper took 0.005908 seconds\n",
      "2025-08-12 18:25:26,160 - hyperopt.tpe - INFO - TPE using 6/6 trials with best loss 0.000664\n",
      "2025/08/12 18:25:26 WARNING mlflow.utils.autologging_utils: MLflow autologging encountered a warning: \"/Users/tawate/Documents/HousePredictionMLPipeline/.venv/lib/python3.12/site-packages/mlflow/types/utils.py:452: UserWarning: Hint: Inferred schema contains integer column(s). Integer columns in Python cannot represent missing values. If your input data contains missing values at inference time, it will be encoded as floats and will cause a schema enforcement error. The best way to avoid this problem is to infer the model schema based on a realistic data sample (training dataset) that includes missing values. Alternatively, you can declare integer columns as doubles (float64) whenever these columns may have missing values. See `Handling Integers With Missing Values <https://www.mlflow.org/docs/latest/models.html#handling-integers-with-missing-values>`_ for more details.\"\n",
      "\n",
      "2025/08/12 18:25:26 WARNING mlflow.utils.autologging_utils: MLflow autologging encountered a warning: \"/Users/tawate/Documents/HousePredictionMLPipeline/.venv/lib/python3.12/site-packages/mlflow/types/utils.py:452: UserWarning: Hint: Inferred schema contains integer column(s). Integer columns in Python cannot represent missing values. If your input data contains missing values at inference time, it will be encoded as floats and will cause a schema enforcement error. The best way to avoid this problem is to infer the model schema based on a realistic data sample (training dataset) that includes missing values. Alternatively, you can declare integer columns as doubles (float64) whenever these columns may have missing values. See `Handling Integers With Missing Values <https://www.mlflow.org/docs/latest/models.html#handling-integers-with-missing-values>`_ for more details.\"\n",
      "\n"
     ]
    },
    {
     "name": "stdout",
     "output_type": "stream",
     "text": [
      "🏃 View run clumsy-pig-290 at: http://127.0.0.1:8080/#/experiments/0/runs/3ec056cf7c594b2aa3551fa4353a9c6f\n",
      "\n",
      "🧪 View experiment at: http://127.0.0.1:8080/#/experiments/0                       \n",
      "\n",
      " 14%|█▍        | 7/50 [00:33<03:09,  4.42s/trial, best loss: 0.0006643596864430723]"
     ]
    },
    {
     "name": "stderr",
     "output_type": "stream",
     "text": [
      "2025-08-12 18:25:30,499 - hyperopt.tpe - INFO - build_posterior_wrapper took 0.005852 seconds\n",
      "2025-08-12 18:25:30,500 - hyperopt.tpe - INFO - TPE using 7/7 trials with best loss 0.000664\n",
      "2025/08/12 18:25:30 WARNING mlflow.utils.autologging_utils: MLflow autologging encountered a warning: \"/Users/tawate/Documents/HousePredictionMLPipeline/.venv/lib/python3.12/site-packages/mlflow/types/utils.py:452: UserWarning: Hint: Inferred schema contains integer column(s). Integer columns in Python cannot represent missing values. If your input data contains missing values at inference time, it will be encoded as floats and will cause a schema enforcement error. The best way to avoid this problem is to infer the model schema based on a realistic data sample (training dataset) that includes missing values. Alternatively, you can declare integer columns as doubles (float64) whenever these columns may have missing values. See `Handling Integers With Missing Values <https://www.mlflow.org/docs/latest/models.html#handling-integers-with-missing-values>`_ for more details.\"\n",
      "\n",
      "2025/08/12 18:25:31 WARNING mlflow.utils.autologging_utils: MLflow autologging encountered a warning: \"/Users/tawate/Documents/HousePredictionMLPipeline/.venv/lib/python3.12/site-packages/mlflow/types/utils.py:452: UserWarning: Hint: Inferred schema contains integer column(s). Integer columns in Python cannot represent missing values. If your input data contains missing values at inference time, it will be encoded as floats and will cause a schema enforcement error. The best way to avoid this problem is to infer the model schema based on a realistic data sample (training dataset) that includes missing values. Alternatively, you can declare integer columns as doubles (float64) whenever these columns may have missing values. See `Handling Integers With Missing Values <https://www.mlflow.org/docs/latest/models.html#handling-integers-with-missing-values>`_ for more details.\"\n",
      "\n"
     ]
    },
    {
     "name": "stdout",
     "output_type": "stream",
     "text": [
      "🏃 View run awesome-fish-9 at: http://127.0.0.1:8080/#/experiments/0/runs/9df1b0f6d7ff4889b942887ba2bddb06\n",
      "\n",
      "🧪 View experiment at: http://127.0.0.1:8080/#/experiments/0                       \n",
      "\n",
      " 16%|█▌        | 8/50 [00:38<03:03,  4.37s/trial, best loss: 0.0006643596864430723]"
     ]
    },
    {
     "name": "stderr",
     "output_type": "stream",
     "text": [
      "2025-08-12 18:25:34,762 - hyperopt.tpe - INFO - build_posterior_wrapper took 0.006681 seconds\n",
      "2025-08-12 18:25:34,762 - hyperopt.tpe - INFO - TPE using 8/8 trials with best loss 0.000664\n",
      "2025/08/12 18:25:34 WARNING mlflow.utils.autologging_utils: MLflow autologging encountered a warning: \"/Users/tawate/Documents/HousePredictionMLPipeline/.venv/lib/python3.12/site-packages/mlflow/types/utils.py:452: UserWarning: Hint: Inferred schema contains integer column(s). Integer columns in Python cannot represent missing values. If your input data contains missing values at inference time, it will be encoded as floats and will cause a schema enforcement error. The best way to avoid this problem is to infer the model schema based on a realistic data sample (training dataset) that includes missing values. Alternatively, you can declare integer columns as doubles (float64) whenever these columns may have missing values. See `Handling Integers With Missing Values <https://www.mlflow.org/docs/latest/models.html#handling-integers-with-missing-values>`_ for more details.\"\n",
      "\n",
      "2025/08/12 18:25:34 WARNING mlflow.utils.autologging_utils: MLflow autologging encountered a warning: \"/Users/tawate/Documents/HousePredictionMLPipeline/.venv/lib/python3.12/site-packages/mlflow/types/utils.py:452: UserWarning: Hint: Inferred schema contains integer column(s). Integer columns in Python cannot represent missing values. If your input data contains missing values at inference time, it will be encoded as floats and will cause a schema enforcement error. The best way to avoid this problem is to infer the model schema based on a realistic data sample (training dataset) that includes missing values. Alternatively, you can declare integer columns as doubles (float64) whenever these columns may have missing values. See `Handling Integers With Missing Values <https://www.mlflow.org/docs/latest/models.html#handling-integers-with-missing-values>`_ for more details.\"\n",
      "\n"
     ]
    },
    {
     "name": "stdout",
     "output_type": "stream",
     "text": [
      "🏃 View run skillful-cod-795 at: http://127.0.0.1:8080/#/experiments/0/runs/d277939e62614e22bfb4ca43ee399352\n",
      "\n",
      "🧪 View experiment at: http://127.0.0.1:8080/#/experiments/0                       \n",
      "\n",
      " 18%|█▊        | 9/50 [00:42<02:54,  4.25s/trial, best loss: 0.0006643596864430723]"
     ]
    },
    {
     "name": "stderr",
     "output_type": "stream",
     "text": [
      "2025-08-12 18:25:38,769 - hyperopt.tpe - INFO - build_posterior_wrapper took 0.006319 seconds\n",
      "2025-08-12 18:25:38,770 - hyperopt.tpe - INFO - TPE using 9/9 trials with best loss 0.000664\n",
      "2025/08/12 18:25:38 WARNING mlflow.utils.autologging_utils: MLflow autologging encountered a warning: \"/Users/tawate/Documents/HousePredictionMLPipeline/.venv/lib/python3.12/site-packages/mlflow/types/utils.py:452: UserWarning: Hint: Inferred schema contains integer column(s). Integer columns in Python cannot represent missing values. If your input data contains missing values at inference time, it will be encoded as floats and will cause a schema enforcement error. The best way to avoid this problem is to infer the model schema based on a realistic data sample (training dataset) that includes missing values. Alternatively, you can declare integer columns as doubles (float64) whenever these columns may have missing values. See `Handling Integers With Missing Values <https://www.mlflow.org/docs/latest/models.html#handling-integers-with-missing-values>`_ for more details.\"\n",
      "\n",
      "2025/08/12 18:25:39 WARNING mlflow.utils.autologging_utils: MLflow autologging encountered a warning: \"/Users/tawate/Documents/HousePredictionMLPipeline/.venv/lib/python3.12/site-packages/mlflow/types/utils.py:452: UserWarning: Hint: Inferred schema contains integer column(s). Integer columns in Python cannot represent missing values. If your input data contains missing values at inference time, it will be encoded as floats and will cause a schema enforcement error. The best way to avoid this problem is to infer the model schema based on a realistic data sample (training dataset) that includes missing values. Alternatively, you can declare integer columns as doubles (float64) whenever these columns may have missing values. See `Handling Integers With Missing Values <https://www.mlflow.org/docs/latest/models.html#handling-integers-with-missing-values>`_ for more details.\"\n",
      "\n"
     ]
    },
    {
     "name": "stdout",
     "output_type": "stream",
     "text": [
      "🏃 View run indecisive-bug-558 at: http://127.0.0.1:8080/#/experiments/0/runs/663d431350e64b54bbb4a6f38a95962c\n",
      "\n",
      "🧪 View experiment at: http://127.0.0.1:8080/#/experiments/0                       \n",
      "\n",
      " 20%|██        | 10/50 [00:46<02:53,  4.34s/trial, best loss: 0.0006643596864430723]"
     ]
    },
    {
     "name": "stderr",
     "output_type": "stream",
     "text": [
      "2025-08-12 18:25:43,286 - hyperopt.tpe - INFO - build_posterior_wrapper took 0.007054 seconds\n",
      "2025-08-12 18:25:43,287 - hyperopt.tpe - INFO - TPE using 10/10 trials with best loss 0.000664\n",
      "2025/08/12 18:25:43 WARNING mlflow.utils.autologging_utils: MLflow autologging encountered a warning: \"/Users/tawate/Documents/HousePredictionMLPipeline/.venv/lib/python3.12/site-packages/mlflow/types/utils.py:452: UserWarning: Hint: Inferred schema contains integer column(s). Integer columns in Python cannot represent missing values. If your input data contains missing values at inference time, it will be encoded as floats and will cause a schema enforcement error. The best way to avoid this problem is to infer the model schema based on a realistic data sample (training dataset) that includes missing values. Alternatively, you can declare integer columns as doubles (float64) whenever these columns may have missing values. See `Handling Integers With Missing Values <https://www.mlflow.org/docs/latest/models.html#handling-integers-with-missing-values>`_ for more details.\"\n",
      "\n",
      "2025/08/12 18:25:43 WARNING mlflow.utils.autologging_utils: MLflow autologging encountered a warning: \"/Users/tawate/Documents/HousePredictionMLPipeline/.venv/lib/python3.12/site-packages/mlflow/types/utils.py:452: UserWarning: Hint: Inferred schema contains integer column(s). Integer columns in Python cannot represent missing values. If your input data contains missing values at inference time, it will be encoded as floats and will cause a schema enforcement error. The best way to avoid this problem is to infer the model schema based on a realistic data sample (training dataset) that includes missing values. Alternatively, you can declare integer columns as doubles (float64) whenever these columns may have missing values. See `Handling Integers With Missing Values <https://www.mlflow.org/docs/latest/models.html#handling-integers-with-missing-values>`_ for more details.\"\n",
      "\n"
     ]
    },
    {
     "name": "stdout",
     "output_type": "stream",
     "text": [
      "🏃 View run exultant-dog-3 at: http://127.0.0.1:8080/#/experiments/0/runs/d7b24c5b81a24548bf83b5ef49645a4e\n",
      "\n",
      "🧪 View experiment at: http://127.0.0.1:8080/#/experiments/0                        \n",
      "\n",
      " 22%|██▏       | 11/50 [00:50<02:46,  4.28s/trial, best loss: 0.0006643596864430723]"
     ]
    },
    {
     "name": "stderr",
     "output_type": "stream",
     "text": [
      "2025-08-12 18:25:47,438 - hyperopt.tpe - INFO - build_posterior_wrapper took 0.006780 seconds\n",
      "2025-08-12 18:25:47,439 - hyperopt.tpe - INFO - TPE using 11/11 trials with best loss 0.000664\n",
      "2025/08/12 18:25:47 WARNING mlflow.utils.autologging_utils: MLflow autologging encountered a warning: \"/Users/tawate/Documents/HousePredictionMLPipeline/.venv/lib/python3.12/site-packages/mlflow/types/utils.py:452: UserWarning: Hint: Inferred schema contains integer column(s). Integer columns in Python cannot represent missing values. If your input data contains missing values at inference time, it will be encoded as floats and will cause a schema enforcement error. The best way to avoid this problem is to infer the model schema based on a realistic data sample (training dataset) that includes missing values. Alternatively, you can declare integer columns as doubles (float64) whenever these columns may have missing values. See `Handling Integers With Missing Values <https://www.mlflow.org/docs/latest/models.html#handling-integers-with-missing-values>`_ for more details.\"\n",
      "\n",
      "2025/08/12 18:25:47 WARNING mlflow.utils.autologging_utils: MLflow autologging encountered a warning: \"/Users/tawate/Documents/HousePredictionMLPipeline/.venv/lib/python3.12/site-packages/mlflow/types/utils.py:452: UserWarning: Hint: Inferred schema contains integer column(s). Integer columns in Python cannot represent missing values. If your input data contains missing values at inference time, it will be encoded as floats and will cause a schema enforcement error. The best way to avoid this problem is to infer the model schema based on a realistic data sample (training dataset) that includes missing values. Alternatively, you can declare integer columns as doubles (float64) whenever these columns may have missing values. See `Handling Integers With Missing Values <https://www.mlflow.org/docs/latest/models.html#handling-integers-with-missing-values>`_ for more details.\"\n",
      "\n"
     ]
    },
    {
     "name": "stdout",
     "output_type": "stream",
     "text": [
      "🏃 View run nimble-rook-571 at: http://127.0.0.1:8080/#/experiments/0/runs/db9485daacd948ebb7b5db0201e78bf8\n",
      "\n",
      "🧪 View experiment at: http://127.0.0.1:8080/#/experiments/0                        \n",
      "\n",
      " 24%|██▍       | 12/50 [00:54<02:38,  4.18s/trial, best loss: 0.0006643596864430723]"
     ]
    },
    {
     "name": "stderr",
     "output_type": "stream",
     "text": [
      "2025-08-12 18:25:51,377 - hyperopt.tpe - INFO - build_posterior_wrapper took 0.005818 seconds\n",
      "2025-08-12 18:25:51,378 - hyperopt.tpe - INFO - TPE using 12/12 trials with best loss 0.000664\n",
      "2025/08/12 18:25:51 WARNING mlflow.utils.autologging_utils: MLflow autologging encountered a warning: \"/Users/tawate/Documents/HousePredictionMLPipeline/.venv/lib/python3.12/site-packages/mlflow/types/utils.py:452: UserWarning: Hint: Inferred schema contains integer column(s). Integer columns in Python cannot represent missing values. If your input data contains missing values at inference time, it will be encoded as floats and will cause a schema enforcement error. The best way to avoid this problem is to infer the model schema based on a realistic data sample (training dataset) that includes missing values. Alternatively, you can declare integer columns as doubles (float64) whenever these columns may have missing values. See `Handling Integers With Missing Values <https://www.mlflow.org/docs/latest/models.html#handling-integers-with-missing-values>`_ for more details.\"\n",
      "\n",
      "2025/08/12 18:25:51 WARNING mlflow.utils.autologging_utils: MLflow autologging encountered a warning: \"/Users/tawate/Documents/HousePredictionMLPipeline/.venv/lib/python3.12/site-packages/mlflow/types/utils.py:452: UserWarning: Hint: Inferred schema contains integer column(s). Integer columns in Python cannot represent missing values. If your input data contains missing values at inference time, it will be encoded as floats and will cause a schema enforcement error. The best way to avoid this problem is to infer the model schema based on a realistic data sample (training dataset) that includes missing values. Alternatively, you can declare integer columns as doubles (float64) whenever these columns may have missing values. See `Handling Integers With Missing Values <https://www.mlflow.org/docs/latest/models.html#handling-integers-with-missing-values>`_ for more details.\"\n",
      "\n"
     ]
    },
    {
     "name": "stdout",
     "output_type": "stream",
     "text": [
      "🏃 View run bold-squirrel-16 at: http://127.0.0.1:8080/#/experiments/0/runs/90f7b9c5050a421ca8f1bfeb4e3e5dde\n",
      "\n",
      "🧪 View experiment at: http://127.0.0.1:8080/#/experiments/0                        \n",
      "\n",
      " 26%|██▌       | 13/50 [00:58<02:32,  4.11s/trial, best loss: 0.0006643596864430723]"
     ]
    },
    {
     "name": "stderr",
     "output_type": "stream",
     "text": [
      "2025-08-12 18:25:55,350 - hyperopt.tpe - INFO - build_posterior_wrapper took 0.005422 seconds\n",
      "2025-08-12 18:25:55,350 - hyperopt.tpe - INFO - TPE using 13/13 trials with best loss 0.000664\n",
      "2025/08/12 18:25:55 WARNING mlflow.utils.autologging_utils: MLflow autologging encountered a warning: \"/Users/tawate/Documents/HousePredictionMLPipeline/.venv/lib/python3.12/site-packages/mlflow/types/utils.py:452: UserWarning: Hint: Inferred schema contains integer column(s). Integer columns in Python cannot represent missing values. If your input data contains missing values at inference time, it will be encoded as floats and will cause a schema enforcement error. The best way to avoid this problem is to infer the model schema based on a realistic data sample (training dataset) that includes missing values. Alternatively, you can declare integer columns as doubles (float64) whenever these columns may have missing values. See `Handling Integers With Missing Values <https://www.mlflow.org/docs/latest/models.html#handling-integers-with-missing-values>`_ for more details.\"\n",
      "\n",
      "2025/08/12 18:25:55 WARNING mlflow.utils.autologging_utils: MLflow autologging encountered a warning: \"/Users/tawate/Documents/HousePredictionMLPipeline/.venv/lib/python3.12/site-packages/mlflow/types/utils.py:452: UserWarning: Hint: Inferred schema contains integer column(s). Integer columns in Python cannot represent missing values. If your input data contains missing values at inference time, it will be encoded as floats and will cause a schema enforcement error. The best way to avoid this problem is to infer the model schema based on a realistic data sample (training dataset) that includes missing values. Alternatively, you can declare integer columns as doubles (float64) whenever these columns may have missing values. See `Handling Integers With Missing Values <https://www.mlflow.org/docs/latest/models.html#handling-integers-with-missing-values>`_ for more details.\"\n",
      "\n"
     ]
    },
    {
     "name": "stdout",
     "output_type": "stream",
     "text": [
      "🏃 View run defiant-midge-681 at: http://127.0.0.1:8080/#/experiments/0/runs/5e0b6a6f2b544be0baf934c613d8c7fd\n",
      "\n",
      "🧪 View experiment at: http://127.0.0.1:8080/#/experiments/0                        \n",
      "\n",
      " 28%|██▊       | 14/50 [01:03<02:32,  4.23s/trial, best loss: 0.0006643596864430723]"
     ]
    },
    {
     "name": "stderr",
     "output_type": "stream",
     "text": [
      "2025-08-12 18:25:59,859 - hyperopt.tpe - INFO - build_posterior_wrapper took 0.005810 seconds\n",
      "2025-08-12 18:25:59,859 - hyperopt.tpe - INFO - TPE using 14/14 trials with best loss 0.000664\n",
      "2025/08/12 18:25:59 WARNING mlflow.utils.autologging_utils: MLflow autologging encountered a warning: \"/Users/tawate/Documents/HousePredictionMLPipeline/.venv/lib/python3.12/site-packages/mlflow/types/utils.py:452: UserWarning: Hint: Inferred schema contains integer column(s). Integer columns in Python cannot represent missing values. If your input data contains missing values at inference time, it will be encoded as floats and will cause a schema enforcement error. The best way to avoid this problem is to infer the model schema based on a realistic data sample (training dataset) that includes missing values. Alternatively, you can declare integer columns as doubles (float64) whenever these columns may have missing values. See `Handling Integers With Missing Values <https://www.mlflow.org/docs/latest/models.html#handling-integers-with-missing-values>`_ for more details.\"\n",
      "\n",
      "2025/08/12 18:25:59 WARNING mlflow.utils.autologging_utils: MLflow autologging encountered a warning: \"/Users/tawate/Documents/HousePredictionMLPipeline/.venv/lib/python3.12/site-packages/mlflow/types/utils.py:452: UserWarning: Hint: Inferred schema contains integer column(s). Integer columns in Python cannot represent missing values. If your input data contains missing values at inference time, it will be encoded as floats and will cause a schema enforcement error. The best way to avoid this problem is to infer the model schema based on a realistic data sample (training dataset) that includes missing values. Alternatively, you can declare integer columns as doubles (float64) whenever these columns may have missing values. See `Handling Integers With Missing Values <https://www.mlflow.org/docs/latest/models.html#handling-integers-with-missing-values>`_ for more details.\"\n",
      "\n"
     ]
    },
    {
     "name": "stdout",
     "output_type": "stream",
     "text": [
      "🏃 View run zealous-stoat-559 at: http://127.0.0.1:8080/#/experiments/0/runs/a0409709ecb74c5fa80811970c77420a\n",
      "\n",
      "🧪 View experiment at: http://127.0.0.1:8080/#/experiments/0                        \n",
      "\n",
      " 30%|███       | 15/50 [01:07<02:26,  4.18s/trial, best loss: 0.0006643596864430723]"
     ]
    },
    {
     "name": "stderr",
     "output_type": "stream",
     "text": [
      "2025-08-12 18:26:03,924 - hyperopt.tpe - INFO - build_posterior_wrapper took 0.006594 seconds\n",
      "2025-08-12 18:26:03,924 - hyperopt.tpe - INFO - TPE using 15/15 trials with best loss 0.000664\n",
      "2025/08/12 18:26:03 WARNING mlflow.utils.autologging_utils: MLflow autologging encountered a warning: \"/Users/tawate/Documents/HousePredictionMLPipeline/.venv/lib/python3.12/site-packages/mlflow/types/utils.py:452: UserWarning: Hint: Inferred schema contains integer column(s). Integer columns in Python cannot represent missing values. If your input data contains missing values at inference time, it will be encoded as floats and will cause a schema enforcement error. The best way to avoid this problem is to infer the model schema based on a realistic data sample (training dataset) that includes missing values. Alternatively, you can declare integer columns as doubles (float64) whenever these columns may have missing values. See `Handling Integers With Missing Values <https://www.mlflow.org/docs/latest/models.html#handling-integers-with-missing-values>`_ for more details.\"\n",
      "\n",
      "2025/08/12 18:26:04 WARNING mlflow.utils.autologging_utils: MLflow autologging encountered a warning: \"/Users/tawate/Documents/HousePredictionMLPipeline/.venv/lib/python3.12/site-packages/mlflow/types/utils.py:452: UserWarning: Hint: Inferred schema contains integer column(s). Integer columns in Python cannot represent missing values. If your input data contains missing values at inference time, it will be encoded as floats and will cause a schema enforcement error. The best way to avoid this problem is to infer the model schema based on a realistic data sample (training dataset) that includes missing values. Alternatively, you can declare integer columns as doubles (float64) whenever these columns may have missing values. See `Handling Integers With Missing Values <https://www.mlflow.org/docs/latest/models.html#handling-integers-with-missing-values>`_ for more details.\"\n",
      "\n"
     ]
    },
    {
     "name": "stdout",
     "output_type": "stream",
     "text": [
      "🏃 View run wistful-snail-588 at: http://127.0.0.1:8080/#/experiments/0/runs/8be2246dcb2441bd8a8d9a7a86ae91f8\n",
      "\n",
      "🧪 View experiment at: http://127.0.0.1:8080/#/experiments/0                        \n",
      "\n",
      " 32%|███▏      | 16/50 [01:11<02:21,  4.18s/trial, best loss: 0.0006643596864430723]"
     ]
    },
    {
     "name": "stderr",
     "output_type": "stream",
     "text": [
      "2025-08-12 18:26:08,093 - hyperopt.tpe - INFO - build_posterior_wrapper took 0.018245 seconds\n",
      "2025-08-12 18:26:08,097 - hyperopt.tpe - INFO - TPE using 16/16 trials with best loss 0.000664\n",
      "2025/08/12 18:26:08 WARNING mlflow.utils.autologging_utils: MLflow autologging encountered a warning: \"/Users/tawate/Documents/HousePredictionMLPipeline/.venv/lib/python3.12/site-packages/mlflow/types/utils.py:452: UserWarning: Hint: Inferred schema contains integer column(s). Integer columns in Python cannot represent missing values. If your input data contains missing values at inference time, it will be encoded as floats and will cause a schema enforcement error. The best way to avoid this problem is to infer the model schema based on a realistic data sample (training dataset) that includes missing values. Alternatively, you can declare integer columns as doubles (float64) whenever these columns may have missing values. See `Handling Integers With Missing Values <https://www.mlflow.org/docs/latest/models.html#handling-integers-with-missing-values>`_ for more details.\"\n",
      "\n",
      "2025/08/12 18:26:08 WARNING mlflow.utils.autologging_utils: MLflow autologging encountered a warning: \"/Users/tawate/Documents/HousePredictionMLPipeline/.venv/lib/python3.12/site-packages/mlflow/types/utils.py:452: UserWarning: Hint: Inferred schema contains integer column(s). Integer columns in Python cannot represent missing values. If your input data contains missing values at inference time, it will be encoded as floats and will cause a schema enforcement error. The best way to avoid this problem is to infer the model schema based on a realistic data sample (training dataset) that includes missing values. Alternatively, you can declare integer columns as doubles (float64) whenever these columns may have missing values. See `Handling Integers With Missing Values <https://www.mlflow.org/docs/latest/models.html#handling-integers-with-missing-values>`_ for more details.\"\n",
      "\n"
     ]
    },
    {
     "name": "stdout",
     "output_type": "stream",
     "text": [
      "🏃 View run debonair-lark-161 at: http://127.0.0.1:8080/#/experiments/0/runs/fd7429689a404c11992be89d411d36f7\n",
      "\n",
      "🧪 View experiment at: http://127.0.0.1:8080/#/experiments/0                        \n",
      "\n",
      " 34%|███▍      | 17/50 [01:15<02:20,  4.25s/trial, best loss: 0.0006643596864430723]"
     ]
    },
    {
     "name": "stderr",
     "output_type": "stream",
     "text": [
      "2025-08-12 18:26:12,504 - hyperopt.tpe - INFO - build_posterior_wrapper took 0.006078 seconds\n",
      "2025-08-12 18:26:12,505 - hyperopt.tpe - INFO - TPE using 17/17 trials with best loss 0.000664\n",
      "2025/08/12 18:26:12 WARNING mlflow.utils.autologging_utils: MLflow autologging encountered a warning: \"/Users/tawate/Documents/HousePredictionMLPipeline/.venv/lib/python3.12/site-packages/mlflow/types/utils.py:452: UserWarning: Hint: Inferred schema contains integer column(s). Integer columns in Python cannot represent missing values. If your input data contains missing values at inference time, it will be encoded as floats and will cause a schema enforcement error. The best way to avoid this problem is to infer the model schema based on a realistic data sample (training dataset) that includes missing values. Alternatively, you can declare integer columns as doubles (float64) whenever these columns may have missing values. See `Handling Integers With Missing Values <https://www.mlflow.org/docs/latest/models.html#handling-integers-with-missing-values>`_ for more details.\"\n",
      "\n",
      "2025/08/12 18:26:12 WARNING mlflow.utils.autologging_utils: MLflow autologging encountered a warning: \"/Users/tawate/Documents/HousePredictionMLPipeline/.venv/lib/python3.12/site-packages/mlflow/types/utils.py:452: UserWarning: Hint: Inferred schema contains integer column(s). Integer columns in Python cannot represent missing values. If your input data contains missing values at inference time, it will be encoded as floats and will cause a schema enforcement error. The best way to avoid this problem is to infer the model schema based on a realistic data sample (training dataset) that includes missing values. Alternatively, you can declare integer columns as doubles (float64) whenever these columns may have missing values. See `Handling Integers With Missing Values <https://www.mlflow.org/docs/latest/models.html#handling-integers-with-missing-values>`_ for more details.\"\n",
      "\n"
     ]
    },
    {
     "name": "stdout",
     "output_type": "stream",
     "text": [
      "🏃 View run adorable-squid-479 at: http://127.0.0.1:8080/#/experiments/0/runs/05ebab402a624a66901495985a4cefff\n",
      "\n",
      "🧪 View experiment at: http://127.0.0.1:8080/#/experiments/0                        \n",
      "\n",
      " 36%|███▌      | 18/50 [01:19<02:12,  4.15s/trial, best loss: 0.0006643596864430723]"
     ]
    },
    {
     "name": "stderr",
     "output_type": "stream",
     "text": [
      "2025-08-12 18:26:16,417 - hyperopt.tpe - INFO - build_posterior_wrapper took 0.005804 seconds\n",
      "2025-08-12 18:26:16,418 - hyperopt.tpe - INFO - TPE using 18/18 trials with best loss 0.000664\n",
      "2025/08/12 18:26:16 WARNING mlflow.utils.autologging_utils: MLflow autologging encountered a warning: \"/Users/tawate/Documents/HousePredictionMLPipeline/.venv/lib/python3.12/site-packages/mlflow/types/utils.py:452: UserWarning: Hint: Inferred schema contains integer column(s). Integer columns in Python cannot represent missing values. If your input data contains missing values at inference time, it will be encoded as floats and will cause a schema enforcement error. The best way to avoid this problem is to infer the model schema based on a realistic data sample (training dataset) that includes missing values. Alternatively, you can declare integer columns as doubles (float64) whenever these columns may have missing values. See `Handling Integers With Missing Values <https://www.mlflow.org/docs/latest/models.html#handling-integers-with-missing-values>`_ for more details.\"\n",
      "\n",
      "2025/08/12 18:26:16 WARNING mlflow.utils.autologging_utils: MLflow autologging encountered a warning: \"/Users/tawate/Documents/HousePredictionMLPipeline/.venv/lib/python3.12/site-packages/mlflow/types/utils.py:452: UserWarning: Hint: Inferred schema contains integer column(s). Integer columns in Python cannot represent missing values. If your input data contains missing values at inference time, it will be encoded as floats and will cause a schema enforcement error. The best way to avoid this problem is to infer the model schema based on a realistic data sample (training dataset) that includes missing values. Alternatively, you can declare integer columns as doubles (float64) whenever these columns may have missing values. See `Handling Integers With Missing Values <https://www.mlflow.org/docs/latest/models.html#handling-integers-with-missing-values>`_ for more details.\"\n",
      "\n"
     ]
    },
    {
     "name": "stdout",
     "output_type": "stream",
     "text": [
      "🏃 View run auspicious-robin-116 at: http://127.0.0.1:8080/#/experiments/0/runs/387dce5ce9264834ae3ecaa8be2ac883\n",
      "\n",
      "🧪 View experiment at: http://127.0.0.1:8080/#/experiments/0                        \n",
      "\n",
      " 38%|███▊      | 19/50 [01:23<02:05,  4.06s/trial, best loss: 0.0006643596864430723]"
     ]
    },
    {
     "name": "stderr",
     "output_type": "stream",
     "text": [
      "2025-08-12 18:26:20,275 - hyperopt.tpe - INFO - build_posterior_wrapper took 0.005465 seconds\n",
      "2025-08-12 18:26:20,276 - hyperopt.tpe - INFO - TPE using 19/19 trials with best loss 0.000664\n",
      "2025/08/12 18:26:20 WARNING mlflow.utils.autologging_utils: MLflow autologging encountered a warning: \"/Users/tawate/Documents/HousePredictionMLPipeline/.venv/lib/python3.12/site-packages/mlflow/types/utils.py:452: UserWarning: Hint: Inferred schema contains integer column(s). Integer columns in Python cannot represent missing values. If your input data contains missing values at inference time, it will be encoded as floats and will cause a schema enforcement error. The best way to avoid this problem is to infer the model schema based on a realistic data sample (training dataset) that includes missing values. Alternatively, you can declare integer columns as doubles (float64) whenever these columns may have missing values. See `Handling Integers With Missing Values <https://www.mlflow.org/docs/latest/models.html#handling-integers-with-missing-values>`_ for more details.\"\n",
      "\n",
      "2025/08/12 18:26:20 WARNING mlflow.utils.autologging_utils: MLflow autologging encountered a warning: \"/Users/tawate/Documents/HousePredictionMLPipeline/.venv/lib/python3.12/site-packages/mlflow/types/utils.py:452: UserWarning: Hint: Inferred schema contains integer column(s). Integer columns in Python cannot represent missing values. If your input data contains missing values at inference time, it will be encoded as floats and will cause a schema enforcement error. The best way to avoid this problem is to infer the model schema based on a realistic data sample (training dataset) that includes missing values. Alternatively, you can declare integer columns as doubles (float64) whenever these columns may have missing values. See `Handling Integers With Missing Values <https://www.mlflow.org/docs/latest/models.html#handling-integers-with-missing-values>`_ for more details.\"\n",
      "\n"
     ]
    },
    {
     "name": "stdout",
     "output_type": "stream",
     "text": [
      "🏃 View run sneaky-zebra-498 at: http://127.0.0.1:8080/#/experiments/0/runs/028f8b13f3c04de38be63d251b4b5c68\n",
      "\n",
      "🧪 View experiment at: http://127.0.0.1:8080/#/experiments/0                        \n",
      "\n",
      " 40%|████      | 20/50 [01:28<02:05,  4.18s/trial, best loss: 0.0006643596864430723]"
     ]
    },
    {
     "name": "stderr",
     "output_type": "stream",
     "text": [
      "2025-08-12 18:26:24,736 - hyperopt.tpe - INFO - build_posterior_wrapper took 0.014910 seconds\n",
      "2025-08-12 18:26:24,741 - hyperopt.tpe - INFO - TPE using 20/20 trials with best loss 0.000664\n",
      "2025/08/12 18:26:24 WARNING mlflow.utils.autologging_utils: MLflow autologging encountered a warning: \"/Users/tawate/Documents/HousePredictionMLPipeline/.venv/lib/python3.12/site-packages/mlflow/types/utils.py:452: UserWarning: Hint: Inferred schema contains integer column(s). Integer columns in Python cannot represent missing values. If your input data contains missing values at inference time, it will be encoded as floats and will cause a schema enforcement error. The best way to avoid this problem is to infer the model schema based on a realistic data sample (training dataset) that includes missing values. Alternatively, you can declare integer columns as doubles (float64) whenever these columns may have missing values. See `Handling Integers With Missing Values <https://www.mlflow.org/docs/latest/models.html#handling-integers-with-missing-values>`_ for more details.\"\n",
      "\n",
      "2025/08/12 18:26:25 WARNING mlflow.utils.autologging_utils: MLflow autologging encountered a warning: \"/Users/tawate/Documents/HousePredictionMLPipeline/.venv/lib/python3.12/site-packages/mlflow/types/utils.py:452: UserWarning: Hint: Inferred schema contains integer column(s). Integer columns in Python cannot represent missing values. If your input data contains missing values at inference time, it will be encoded as floats and will cause a schema enforcement error. The best way to avoid this problem is to infer the model schema based on a realistic data sample (training dataset) that includes missing values. Alternatively, you can declare integer columns as doubles (float64) whenever these columns may have missing values. See `Handling Integers With Missing Values <https://www.mlflow.org/docs/latest/models.html#handling-integers-with-missing-values>`_ for more details.\"\n",
      "\n"
     ]
    },
    {
     "name": "stdout",
     "output_type": "stream",
     "text": [
      "🏃 View run bold-wren-556 at: http://127.0.0.1:8080/#/experiments/0/runs/b7d1800595f944ca852bfc90e19af858\n",
      "\n",
      "🧪 View experiment at: http://127.0.0.1:8080/#/experiments/0                        \n",
      "\n",
      " 42%|████▏     | 21/50 [01:33<02:08,  4.44s/trial, best loss: 0.0006643596864430723]"
     ]
    },
    {
     "name": "stderr",
     "output_type": "stream",
     "text": [
      "2025-08-12 18:26:29,787 - hyperopt.tpe - INFO - build_posterior_wrapper took 0.008420 seconds\n",
      "2025-08-12 18:26:29,788 - hyperopt.tpe - INFO - TPE using 21/21 trials with best loss 0.000664\n",
      "2025/08/12 18:26:29 WARNING mlflow.utils.autologging_utils: MLflow autologging encountered a warning: \"/Users/tawate/Documents/HousePredictionMLPipeline/.venv/lib/python3.12/site-packages/mlflow/types/utils.py:452: UserWarning: Hint: Inferred schema contains integer column(s). Integer columns in Python cannot represent missing values. If your input data contains missing values at inference time, it will be encoded as floats and will cause a schema enforcement error. The best way to avoid this problem is to infer the model schema based on a realistic data sample (training dataset) that includes missing values. Alternatively, you can declare integer columns as doubles (float64) whenever these columns may have missing values. See `Handling Integers With Missing Values <https://www.mlflow.org/docs/latest/models.html#handling-integers-with-missing-values>`_ for more details.\"\n",
      "\n",
      "2025/08/12 18:26:29 WARNING mlflow.utils.autologging_utils: MLflow autologging encountered a warning: \"/Users/tawate/Documents/HousePredictionMLPipeline/.venv/lib/python3.12/site-packages/mlflow/types/utils.py:452: UserWarning: Hint: Inferred schema contains integer column(s). Integer columns in Python cannot represent missing values. If your input data contains missing values at inference time, it will be encoded as floats and will cause a schema enforcement error. The best way to avoid this problem is to infer the model schema based on a realistic data sample (training dataset) that includes missing values. Alternatively, you can declare integer columns as doubles (float64) whenever these columns may have missing values. See `Handling Integers With Missing Values <https://www.mlflow.org/docs/latest/models.html#handling-integers-with-missing-values>`_ for more details.\"\n",
      "\n"
     ]
    },
    {
     "name": "stdout",
     "output_type": "stream",
     "text": [
      "🏃 View run amazing-shrike-629 at: http://127.0.0.1:8080/#/experiments/0/runs/d6b9415143164fcda1febce1be5d861d\n",
      "\n",
      "🧪 View experiment at: http://127.0.0.1:8080/#/experiments/0                        \n",
      "\n",
      " 44%|████▍     | 22/50 [01:37<02:07,  4.57s/trial, best loss: 0.0006643596864430723]"
     ]
    },
    {
     "name": "stderr",
     "output_type": "stream",
     "text": [
      "2025-08-12 18:26:34,658 - hyperopt.tpe - INFO - build_posterior_wrapper took 0.013832 seconds\n",
      "2025-08-12 18:26:34,659 - hyperopt.tpe - INFO - TPE using 22/22 trials with best loss 0.000664\n",
      "2025/08/12 18:26:34 WARNING mlflow.utils.autologging_utils: MLflow autologging encountered a warning: \"/Users/tawate/Documents/HousePredictionMLPipeline/.venv/lib/python3.12/site-packages/mlflow/types/utils.py:452: UserWarning: Hint: Inferred schema contains integer column(s). Integer columns in Python cannot represent missing values. If your input data contains missing values at inference time, it will be encoded as floats and will cause a schema enforcement error. The best way to avoid this problem is to infer the model schema based on a realistic data sample (training dataset) that includes missing values. Alternatively, you can declare integer columns as doubles (float64) whenever these columns may have missing values. See `Handling Integers With Missing Values <https://www.mlflow.org/docs/latest/models.html#handling-integers-with-missing-values>`_ for more details.\"\n",
      "\n",
      "2025/08/12 18:26:34 WARNING mlflow.utils.autologging_utils: MLflow autologging encountered a warning: \"/Users/tawate/Documents/HousePredictionMLPipeline/.venv/lib/python3.12/site-packages/mlflow/types/utils.py:452: UserWarning: Hint: Inferred schema contains integer column(s). Integer columns in Python cannot represent missing values. If your input data contains missing values at inference time, it will be encoded as floats and will cause a schema enforcement error. The best way to avoid this problem is to infer the model schema based on a realistic data sample (training dataset) that includes missing values. Alternatively, you can declare integer columns as doubles (float64) whenever these columns may have missing values. See `Handling Integers With Missing Values <https://www.mlflow.org/docs/latest/models.html#handling-integers-with-missing-values>`_ for more details.\"\n",
      "\n"
     ]
    },
    {
     "name": "stdout",
     "output_type": "stream",
     "text": [
      "🏃 View run gifted-mouse-302 at: http://127.0.0.1:8080/#/experiments/0/runs/c7e15e41607b4a1a8e93d1a52ffae260\n",
      "\n",
      "🧪 View experiment at: http://127.0.0.1:8080/#/experiments/0                        \n",
      "\n",
      " 46%|████▌     | 23/50 [01:42<02:03,  4.57s/trial, best loss: 0.0006643596864430723]"
     ]
    },
    {
     "name": "stderr",
     "output_type": "stream",
     "text": [
      "2025-08-12 18:26:39,232 - hyperopt.tpe - INFO - build_posterior_wrapper took 0.006995 seconds\n",
      "2025-08-12 18:26:39,233 - hyperopt.tpe - INFO - TPE using 23/23 trials with best loss 0.000664\n",
      "2025/08/12 18:26:39 WARNING mlflow.utils.autologging_utils: MLflow autologging encountered a warning: \"/Users/tawate/Documents/HousePredictionMLPipeline/.venv/lib/python3.12/site-packages/mlflow/types/utils.py:452: UserWarning: Hint: Inferred schema contains integer column(s). Integer columns in Python cannot represent missing values. If your input data contains missing values at inference time, it will be encoded as floats and will cause a schema enforcement error. The best way to avoid this problem is to infer the model schema based on a realistic data sample (training dataset) that includes missing values. Alternatively, you can declare integer columns as doubles (float64) whenever these columns may have missing values. See `Handling Integers With Missing Values <https://www.mlflow.org/docs/latest/models.html#handling-integers-with-missing-values>`_ for more details.\"\n",
      "\n",
      "2025/08/12 18:26:39 WARNING mlflow.utils.autologging_utils: MLflow autologging encountered a warning: \"/Users/tawate/Documents/HousePredictionMLPipeline/.venv/lib/python3.12/site-packages/mlflow/types/utils.py:452: UserWarning: Hint: Inferred schema contains integer column(s). Integer columns in Python cannot represent missing values. If your input data contains missing values at inference time, it will be encoded as floats and will cause a schema enforcement error. The best way to avoid this problem is to infer the model schema based on a realistic data sample (training dataset) that includes missing values. Alternatively, you can declare integer columns as doubles (float64) whenever these columns may have missing values. See `Handling Integers With Missing Values <https://www.mlflow.org/docs/latest/models.html#handling-integers-with-missing-values>`_ for more details.\"\n",
      "\n"
     ]
    },
    {
     "name": "stdout",
     "output_type": "stream",
     "text": [
      "🏃 View run worried-penguin-642 at: http://127.0.0.1:8080/#/experiments/0/runs/e14ef33cad5e4895b4db8e8633fc18bc\n",
      "\n",
      "🧪 View experiment at: http://127.0.0.1:8080/#/experiments/0                        \n",
      "\n",
      " 48%|████▊     | 24/50 [01:47<02:03,  4.73s/trial, best loss: 0.0006643596864430723]"
     ]
    },
    {
     "name": "stderr",
     "output_type": "stream",
     "text": [
      "2025-08-12 18:26:44,338 - hyperopt.tpe - INFO - build_posterior_wrapper took 0.007381 seconds\n",
      "2025-08-12 18:26:44,339 - hyperopt.tpe - INFO - TPE using 24/24 trials with best loss 0.000664\n",
      "2025/08/12 18:26:44 WARNING mlflow.utils.autologging_utils: MLflow autologging encountered a warning: \"/Users/tawate/Documents/HousePredictionMLPipeline/.venv/lib/python3.12/site-packages/mlflow/types/utils.py:452: UserWarning: Hint: Inferred schema contains integer column(s). Integer columns in Python cannot represent missing values. If your input data contains missing values at inference time, it will be encoded as floats and will cause a schema enforcement error. The best way to avoid this problem is to infer the model schema based on a realistic data sample (training dataset) that includes missing values. Alternatively, you can declare integer columns as doubles (float64) whenever these columns may have missing values. See `Handling Integers With Missing Values <https://www.mlflow.org/docs/latest/models.html#handling-integers-with-missing-values>`_ for more details.\"\n",
      "\n",
      "2025/08/12 18:26:44 WARNING mlflow.utils.autologging_utils: MLflow autologging encountered a warning: \"/Users/tawate/Documents/HousePredictionMLPipeline/.venv/lib/python3.12/site-packages/mlflow/types/utils.py:452: UserWarning: Hint: Inferred schema contains integer column(s). Integer columns in Python cannot represent missing values. If your input data contains missing values at inference time, it will be encoded as floats and will cause a schema enforcement error. The best way to avoid this problem is to infer the model schema based on a realistic data sample (training dataset) that includes missing values. Alternatively, you can declare integer columns as doubles (float64) whenever these columns may have missing values. See `Handling Integers With Missing Values <https://www.mlflow.org/docs/latest/models.html#handling-integers-with-missing-values>`_ for more details.\"\n",
      "\n"
     ]
    },
    {
     "name": "stdout",
     "output_type": "stream",
     "text": [
      "🏃 View run adorable-shad-323 at: http://127.0.0.1:8080/#/experiments/0/runs/9a94b4688178415cb0e5e4d2b0f24830\n",
      "\n",
      "🧪 View experiment at: http://127.0.0.1:8080/#/experiments/0                        \n",
      "\n",
      " 50%|█████     | 25/50 [01:52<01:55,  4.64s/trial, best loss: 0.0006643596864430723]"
     ]
    },
    {
     "name": "stderr",
     "output_type": "stream",
     "text": [
      "2025-08-12 18:26:48,758 - hyperopt.tpe - INFO - build_posterior_wrapper took 0.004943 seconds\n",
      "2025-08-12 18:26:48,758 - hyperopt.tpe - INFO - TPE using 25/25 trials with best loss 0.000664\n",
      "2025/08/12 18:26:48 WARNING mlflow.utils.autologging_utils: MLflow autologging encountered a warning: \"/Users/tawate/Documents/HousePredictionMLPipeline/.venv/lib/python3.12/site-packages/mlflow/types/utils.py:452: UserWarning: Hint: Inferred schema contains integer column(s). Integer columns in Python cannot represent missing values. If your input data contains missing values at inference time, it will be encoded as floats and will cause a schema enforcement error. The best way to avoid this problem is to infer the model schema based on a realistic data sample (training dataset) that includes missing values. Alternatively, you can declare integer columns as doubles (float64) whenever these columns may have missing values. See `Handling Integers With Missing Values <https://www.mlflow.org/docs/latest/models.html#handling-integers-with-missing-values>`_ for more details.\"\n",
      "\n",
      "2025/08/12 18:26:48 WARNING mlflow.utils.autologging_utils: MLflow autologging encountered a warning: \"/Users/tawate/Documents/HousePredictionMLPipeline/.venv/lib/python3.12/site-packages/mlflow/types/utils.py:452: UserWarning: Hint: Inferred schema contains integer column(s). Integer columns in Python cannot represent missing values. If your input data contains missing values at inference time, it will be encoded as floats and will cause a schema enforcement error. The best way to avoid this problem is to infer the model schema based on a realistic data sample (training dataset) that includes missing values. Alternatively, you can declare integer columns as doubles (float64) whenever these columns may have missing values. See `Handling Integers With Missing Values <https://www.mlflow.org/docs/latest/models.html#handling-integers-with-missing-values>`_ for more details.\"\n",
      "\n"
     ]
    },
    {
     "name": "stdout",
     "output_type": "stream",
     "text": [
      "🏃 View run calm-ape-478 at: http://127.0.0.1:8080/#/experiments/0/runs/10d0ee837dc84358a8998f4707a4e4ed\n",
      "\n",
      "🧪 View experiment at: http://127.0.0.1:8080/#/experiments/0                        \n",
      "\n",
      " 52%|█████▏    | 26/50 [01:57<01:53,  4.74s/trial, best loss: 0.0006643596864430723]"
     ]
    },
    {
     "name": "stderr",
     "output_type": "stream",
     "text": [
      "2025-08-12 18:26:53,739 - hyperopt.tpe - INFO - build_posterior_wrapper took 0.006866 seconds\n",
      "2025-08-12 18:26:53,740 - hyperopt.tpe - INFO - TPE using 26/26 trials with best loss 0.000664\n",
      "2025/08/12 18:26:53 WARNING mlflow.utils.autologging_utils: MLflow autologging encountered a warning: \"/Users/tawate/Documents/HousePredictionMLPipeline/.venv/lib/python3.12/site-packages/mlflow/types/utils.py:452: UserWarning: Hint: Inferred schema contains integer column(s). Integer columns in Python cannot represent missing values. If your input data contains missing values at inference time, it will be encoded as floats and will cause a schema enforcement error. The best way to avoid this problem is to infer the model schema based on a realistic data sample (training dataset) that includes missing values. Alternatively, you can declare integer columns as doubles (float64) whenever these columns may have missing values. See `Handling Integers With Missing Values <https://www.mlflow.org/docs/latest/models.html#handling-integers-with-missing-values>`_ for more details.\"\n",
      "\n",
      "2025/08/12 18:26:53 WARNING mlflow.utils.autologging_utils: MLflow autologging encountered a warning: \"/Users/tawate/Documents/HousePredictionMLPipeline/.venv/lib/python3.12/site-packages/mlflow/types/utils.py:452: UserWarning: Hint: Inferred schema contains integer column(s). Integer columns in Python cannot represent missing values. If your input data contains missing values at inference time, it will be encoded as floats and will cause a schema enforcement error. The best way to avoid this problem is to infer the model schema based on a realistic data sample (training dataset) that includes missing values. Alternatively, you can declare integer columns as doubles (float64) whenever these columns may have missing values. See `Handling Integers With Missing Values <https://www.mlflow.org/docs/latest/models.html#handling-integers-with-missing-values>`_ for more details.\"\n",
      "\n"
     ]
    },
    {
     "name": "stdout",
     "output_type": "stream",
     "text": [
      "🏃 View run capricious-hare-672 at: http://127.0.0.1:8080/#/experiments/0/runs/618bdab2f2714bc1bf271b1ff8432d06\n",
      "\n",
      "🧪 View experiment at: http://127.0.0.1:8080/#/experiments/0                        \n",
      "\n",
      " 54%|█████▍    | 27/50 [02:01<01:48,  4.70s/trial, best loss: 0.0006643596864430723]"
     ]
    },
    {
     "name": "stderr",
     "output_type": "stream",
     "text": [
      "2025-08-12 18:26:58,339 - hyperopt.tpe - INFO - build_posterior_wrapper took 0.006715 seconds\n",
      "2025-08-12 18:26:58,339 - hyperopt.tpe - INFO - TPE using 27/27 trials with best loss 0.000664\n",
      "2025/08/12 18:26:58 WARNING mlflow.utils.autologging_utils: MLflow autologging encountered a warning: \"/Users/tawate/Documents/HousePredictionMLPipeline/.venv/lib/python3.12/site-packages/mlflow/types/utils.py:452: UserWarning: Hint: Inferred schema contains integer column(s). Integer columns in Python cannot represent missing values. If your input data contains missing values at inference time, it will be encoded as floats and will cause a schema enforcement error. The best way to avoid this problem is to infer the model schema based on a realistic data sample (training dataset) that includes missing values. Alternatively, you can declare integer columns as doubles (float64) whenever these columns may have missing values. See `Handling Integers With Missing Values <https://www.mlflow.org/docs/latest/models.html#handling-integers-with-missing-values>`_ for more details.\"\n",
      "\n",
      "2025/08/12 18:26:58 WARNING mlflow.utils.autologging_utils: MLflow autologging encountered a warning: \"/Users/tawate/Documents/HousePredictionMLPipeline/.venv/lib/python3.12/site-packages/mlflow/types/utils.py:452: UserWarning: Hint: Inferred schema contains integer column(s). Integer columns in Python cannot represent missing values. If your input data contains missing values at inference time, it will be encoded as floats and will cause a schema enforcement error. The best way to avoid this problem is to infer the model schema based on a realistic data sample (training dataset) that includes missing values. Alternatively, you can declare integer columns as doubles (float64) whenever these columns may have missing values. See `Handling Integers With Missing Values <https://www.mlflow.org/docs/latest/models.html#handling-integers-with-missing-values>`_ for more details.\"\n",
      "\n"
     ]
    },
    {
     "name": "stdout",
     "output_type": "stream",
     "text": [
      "🏃 View run legendary-hare-364 at: http://127.0.0.1:8080/#/experiments/0/runs/1d3e23c96a3f4254bce1e68c3e399a97\n",
      "\n",
      "🧪 View experiment at: http://127.0.0.1:8080/#/experiments/0                        \n",
      "\n",
      " 56%|█████▌    | 28/50 [02:06<01:47,  4.89s/trial, best loss: 0.0006643596864430723]"
     ]
    },
    {
     "name": "stderr",
     "output_type": "stream",
     "text": [
      "2025-08-12 18:27:03,680 - hyperopt.tpe - INFO - build_posterior_wrapper took 0.006188 seconds\n",
      "2025-08-12 18:27:03,681 - hyperopt.tpe - INFO - TPE using 28/28 trials with best loss 0.000664\n",
      "2025/08/12 18:27:03 WARNING mlflow.utils.autologging_utils: MLflow autologging encountered a warning: \"/Users/tawate/Documents/HousePredictionMLPipeline/.venv/lib/python3.12/site-packages/mlflow/types/utils.py:452: UserWarning: Hint: Inferred schema contains integer column(s). Integer columns in Python cannot represent missing values. If your input data contains missing values at inference time, it will be encoded as floats and will cause a schema enforcement error. The best way to avoid this problem is to infer the model schema based on a realistic data sample (training dataset) that includes missing values. Alternatively, you can declare integer columns as doubles (float64) whenever these columns may have missing values. See `Handling Integers With Missing Values <https://www.mlflow.org/docs/latest/models.html#handling-integers-with-missing-values>`_ for more details.\"\n",
      "\n",
      "2025/08/12 18:27:03 WARNING mlflow.utils.autologging_utils: MLflow autologging encountered a warning: \"/Users/tawate/Documents/HousePredictionMLPipeline/.venv/lib/python3.12/site-packages/mlflow/types/utils.py:452: UserWarning: Hint: Inferred schema contains integer column(s). Integer columns in Python cannot represent missing values. If your input data contains missing values at inference time, it will be encoded as floats and will cause a schema enforcement error. The best way to avoid this problem is to infer the model schema based on a realistic data sample (training dataset) that includes missing values. Alternatively, you can declare integer columns as doubles (float64) whenever these columns may have missing values. See `Handling Integers With Missing Values <https://www.mlflow.org/docs/latest/models.html#handling-integers-with-missing-values>`_ for more details.\"\n",
      "\n"
     ]
    },
    {
     "name": "stdout",
     "output_type": "stream",
     "text": [
      "🏃 View run polite-trout-625 at: http://127.0.0.1:8080/#/experiments/0/runs/69a1a5fe94b24f3da7b0912e0177e62f\n",
      "\n",
      "🧪 View experiment at: http://127.0.0.1:8080/#/experiments/0                        \n",
      "\n",
      " 58%|█████▊    | 29/50 [02:12<01:44,  4.97s/trial, best loss: 0.0006643596864430723]"
     ]
    },
    {
     "name": "stderr",
     "output_type": "stream",
     "text": [
      "2025-08-12 18:27:08,820 - hyperopt.tpe - INFO - build_posterior_wrapper took 0.007848 seconds\n",
      "2025-08-12 18:27:08,821 - hyperopt.tpe - INFO - TPE using 29/29 trials with best loss 0.000664\n",
      "2025/08/12 18:27:08 WARNING mlflow.utils.autologging_utils: MLflow autologging encountered a warning: \"/Users/tawate/Documents/HousePredictionMLPipeline/.venv/lib/python3.12/site-packages/mlflow/types/utils.py:452: UserWarning: Hint: Inferred schema contains integer column(s). Integer columns in Python cannot represent missing values. If your input data contains missing values at inference time, it will be encoded as floats and will cause a schema enforcement error. The best way to avoid this problem is to infer the model schema based on a realistic data sample (training dataset) that includes missing values. Alternatively, you can declare integer columns as doubles (float64) whenever these columns may have missing values. See `Handling Integers With Missing Values <https://www.mlflow.org/docs/latest/models.html#handling-integers-with-missing-values>`_ for more details.\"\n",
      "\n",
      "2025/08/12 18:27:09 WARNING mlflow.utils.autologging_utils: MLflow autologging encountered a warning: \"/Users/tawate/Documents/HousePredictionMLPipeline/.venv/lib/python3.12/site-packages/mlflow/types/utils.py:452: UserWarning: Hint: Inferred schema contains integer column(s). Integer columns in Python cannot represent missing values. If your input data contains missing values at inference time, it will be encoded as floats and will cause a schema enforcement error. The best way to avoid this problem is to infer the model schema based on a realistic data sample (training dataset) that includes missing values. Alternatively, you can declare integer columns as doubles (float64) whenever these columns may have missing values. See `Handling Integers With Missing Values <https://www.mlflow.org/docs/latest/models.html#handling-integers-with-missing-values>`_ for more details.\"\n",
      "\n"
     ]
    },
    {
     "name": "stdout",
     "output_type": "stream",
     "text": [
      "🏃 View run thoughtful-frog-127 at: http://127.0.0.1:8080/#/experiments/0/runs/517b7f85e8b84d3c82f0e62a7c0beccc\n",
      "\n",
      "🧪 View experiment at: http://127.0.0.1:8080/#/experiments/0                        \n",
      "\n",
      " 60%|██████    | 30/50 [02:18<01:45,  5.27s/trial, best loss: 0.0006643596864430723]"
     ]
    },
    {
     "name": "stderr",
     "output_type": "stream",
     "text": [
      "2025-08-12 18:27:14,809 - hyperopt.tpe - INFO - build_posterior_wrapper took 0.007009 seconds\n",
      "2025-08-12 18:27:14,810 - hyperopt.tpe - INFO - TPE using 30/30 trials with best loss 0.000664\n",
      "2025/08/12 18:27:14 WARNING mlflow.utils.autologging_utils: MLflow autologging encountered a warning: \"/Users/tawate/Documents/HousePredictionMLPipeline/.venv/lib/python3.12/site-packages/mlflow/types/utils.py:452: UserWarning: Hint: Inferred schema contains integer column(s). Integer columns in Python cannot represent missing values. If your input data contains missing values at inference time, it will be encoded as floats and will cause a schema enforcement error. The best way to avoid this problem is to infer the model schema based on a realistic data sample (training dataset) that includes missing values. Alternatively, you can declare integer columns as doubles (float64) whenever these columns may have missing values. See `Handling Integers With Missing Values <https://www.mlflow.org/docs/latest/models.html#handling-integers-with-missing-values>`_ for more details.\"\n",
      "\n",
      "2025/08/12 18:27:15 WARNING mlflow.utils.autologging_utils: MLflow autologging encountered a warning: \"/Users/tawate/Documents/HousePredictionMLPipeline/.venv/lib/python3.12/site-packages/mlflow/types/utils.py:452: UserWarning: Hint: Inferred schema contains integer column(s). Integer columns in Python cannot represent missing values. If your input data contains missing values at inference time, it will be encoded as floats and will cause a schema enforcement error. The best way to avoid this problem is to infer the model schema based on a realistic data sample (training dataset) that includes missing values. Alternatively, you can declare integer columns as doubles (float64) whenever these columns may have missing values. See `Handling Integers With Missing Values <https://www.mlflow.org/docs/latest/models.html#handling-integers-with-missing-values>`_ for more details.\"\n",
      "\n"
     ]
    },
    {
     "name": "stdout",
     "output_type": "stream",
     "text": [
      "🏃 View run aged-chimp-817 at: http://127.0.0.1:8080/#/experiments/0/runs/8e47c06daf4245d9beb0347309888b70\n",
      "\n",
      "🧪 View experiment at: http://127.0.0.1:8080/#/experiments/0                        \n",
      "\n",
      " 62%|██████▏   | 31/50 [02:23<01:38,  5.18s/trial, best loss: 0.0006643596864430723]"
     ]
    },
    {
     "name": "stderr",
     "output_type": "stream",
     "text": [
      "2025-08-12 18:27:19,994 - hyperopt.tpe - INFO - build_posterior_wrapper took 0.218418 seconds\n",
      "2025-08-12 18:27:19,995 - hyperopt.tpe - INFO - TPE using 31/31 trials with best loss 0.000664\n",
      "2025/08/12 18:27:20 WARNING mlflow.utils.autologging_utils: MLflow autologging encountered a warning: \"/Users/tawate/Documents/HousePredictionMLPipeline/.venv/lib/python3.12/site-packages/mlflow/types/utils.py:452: UserWarning: Hint: Inferred schema contains integer column(s). Integer columns in Python cannot represent missing values. If your input data contains missing values at inference time, it will be encoded as floats and will cause a schema enforcement error. The best way to avoid this problem is to infer the model schema based on a realistic data sample (training dataset) that includes missing values. Alternatively, you can declare integer columns as doubles (float64) whenever these columns may have missing values. See `Handling Integers With Missing Values <https://www.mlflow.org/docs/latest/models.html#handling-integers-with-missing-values>`_ for more details.\"\n",
      "\n",
      "2025/08/12 18:27:20 WARNING mlflow.utils.autologging_utils: MLflow autologging encountered a warning: \"/Users/tawate/Documents/HousePredictionMLPipeline/.venv/lib/python3.12/site-packages/mlflow/types/utils.py:452: UserWarning: Hint: Inferred schema contains integer column(s). Integer columns in Python cannot represent missing values. If your input data contains missing values at inference time, it will be encoded as floats and will cause a schema enforcement error. The best way to avoid this problem is to infer the model schema based on a realistic data sample (training dataset) that includes missing values. Alternatively, you can declare integer columns as doubles (float64) whenever these columns may have missing values. See `Handling Integers With Missing Values <https://www.mlflow.org/docs/latest/models.html#handling-integers-with-missing-values>`_ for more details.\"\n",
      "\n"
     ]
    },
    {
     "name": "stdout",
     "output_type": "stream",
     "text": [
      "🏃 View run grandiose-sow-432 at: http://127.0.0.1:8080/#/experiments/0/runs/5f25f3051c044135ae8da2b9de5c4ed2\n",
      "\n",
      "🧪 View experiment at: http://127.0.0.1:8080/#/experiments/0                        \n",
      "\n",
      " 64%|██████▍   | 32/50 [02:27<01:31,  5.07s/trial, best loss: 0.0006643596864430723]"
     ]
    },
    {
     "name": "stderr",
     "output_type": "stream",
     "text": [
      "2025-08-12 18:27:24,600 - hyperopt.tpe - INFO - build_posterior_wrapper took 0.006745 seconds\n",
      "2025-08-12 18:27:24,600 - hyperopt.tpe - INFO - TPE using 32/32 trials with best loss 0.000664\n",
      "2025/08/12 18:27:24 WARNING mlflow.utils.autologging_utils: MLflow autologging encountered a warning: \"/Users/tawate/Documents/HousePredictionMLPipeline/.venv/lib/python3.12/site-packages/mlflow/types/utils.py:452: UserWarning: Hint: Inferred schema contains integer column(s). Integer columns in Python cannot represent missing values. If your input data contains missing values at inference time, it will be encoded as floats and will cause a schema enforcement error. The best way to avoid this problem is to infer the model schema based on a realistic data sample (training dataset) that includes missing values. Alternatively, you can declare integer columns as doubles (float64) whenever these columns may have missing values. See `Handling Integers With Missing Values <https://www.mlflow.org/docs/latest/models.html#handling-integers-with-missing-values>`_ for more details.\"\n",
      "\n",
      "2025/08/12 18:27:24 WARNING mlflow.utils.autologging_utils: MLflow autologging encountered a warning: \"/Users/tawate/Documents/HousePredictionMLPipeline/.venv/lib/python3.12/site-packages/mlflow/types/utils.py:452: UserWarning: Hint: Inferred schema contains integer column(s). Integer columns in Python cannot represent missing values. If your input data contains missing values at inference time, it will be encoded as floats and will cause a schema enforcement error. The best way to avoid this problem is to infer the model schema based on a realistic data sample (training dataset) that includes missing values. Alternatively, you can declare integer columns as doubles (float64) whenever these columns may have missing values. See `Handling Integers With Missing Values <https://www.mlflow.org/docs/latest/models.html#handling-integers-with-missing-values>`_ for more details.\"\n",
      "\n"
     ]
    },
    {
     "name": "stdout",
     "output_type": "stream",
     "text": [
      "🏃 View run adaptable-hawk-728 at: http://127.0.0.1:8080/#/experiments/0/runs/c4df5646281549838585f18762fddb4c\n",
      "\n",
      "🧪 View experiment at: http://127.0.0.1:8080/#/experiments/0                        \n",
      "\n",
      " 66%|██████▌   | 33/50 [02:32<01:25,  5.01s/trial, best loss: 0.0006643596864430723]"
     ]
    },
    {
     "name": "stderr",
     "output_type": "stream",
     "text": [
      "2025-08-12 18:27:29,474 - hyperopt.tpe - INFO - build_posterior_wrapper took 0.005264 seconds\n",
      "2025-08-12 18:27:29,475 - hyperopt.tpe - INFO - TPE using 33/33 trials with best loss 0.000664\n",
      "2025/08/12 18:27:29 WARNING mlflow.utils.autologging_utils: MLflow autologging encountered a warning: \"/Users/tawate/Documents/HousePredictionMLPipeline/.venv/lib/python3.12/site-packages/mlflow/types/utils.py:452: UserWarning: Hint: Inferred schema contains integer column(s). Integer columns in Python cannot represent missing values. If your input data contains missing values at inference time, it will be encoded as floats and will cause a schema enforcement error. The best way to avoid this problem is to infer the model schema based on a realistic data sample (training dataset) that includes missing values. Alternatively, you can declare integer columns as doubles (float64) whenever these columns may have missing values. See `Handling Integers With Missing Values <https://www.mlflow.org/docs/latest/models.html#handling-integers-with-missing-values>`_ for more details.\"\n",
      "\n",
      "2025/08/12 18:27:29 WARNING mlflow.utils.autologging_utils: MLflow autologging encountered a warning: \"/Users/tawate/Documents/HousePredictionMLPipeline/.venv/lib/python3.12/site-packages/mlflow/types/utils.py:452: UserWarning: Hint: Inferred schema contains integer column(s). Integer columns in Python cannot represent missing values. If your input data contains missing values at inference time, it will be encoded as floats and will cause a schema enforcement error. The best way to avoid this problem is to infer the model schema based on a realistic data sample (training dataset) that includes missing values. Alternatively, you can declare integer columns as doubles (float64) whenever these columns may have missing values. See `Handling Integers With Missing Values <https://www.mlflow.org/docs/latest/models.html#handling-integers-with-missing-values>`_ for more details.\"\n",
      "\n"
     ]
    },
    {
     "name": "stdout",
     "output_type": "stream",
     "text": [
      "🏃 View run stylish-fowl-175 at: http://127.0.0.1:8080/#/experiments/0/runs/38cd04195a69412a81c523c8111b7dae\n",
      "\n",
      "🧪 View experiment at: http://127.0.0.1:8080/#/experiments/0                        \n",
      "\n",
      " 68%|██████▊   | 34/50 [02:36<01:14,  4.68s/trial, best loss: 0.0006643596864430723]"
     ]
    },
    {
     "name": "stderr",
     "output_type": "stream",
     "text": [
      "2025-08-12 18:27:33,366 - hyperopt.tpe - INFO - build_posterior_wrapper took 0.005600 seconds\n",
      "2025-08-12 18:27:33,367 - hyperopt.tpe - INFO - TPE using 34/34 trials with best loss 0.000664\n",
      "2025/08/12 18:27:33 WARNING mlflow.utils.autologging_utils: MLflow autologging encountered a warning: \"/Users/tawate/Documents/HousePredictionMLPipeline/.venv/lib/python3.12/site-packages/mlflow/types/utils.py:452: UserWarning: Hint: Inferred schema contains integer column(s). Integer columns in Python cannot represent missing values. If your input data contains missing values at inference time, it will be encoded as floats and will cause a schema enforcement error. The best way to avoid this problem is to infer the model schema based on a realistic data sample (training dataset) that includes missing values. Alternatively, you can declare integer columns as doubles (float64) whenever these columns may have missing values. See `Handling Integers With Missing Values <https://www.mlflow.org/docs/latest/models.html#handling-integers-with-missing-values>`_ for more details.\"\n",
      "\n",
      "2025/08/12 18:27:33 WARNING mlflow.utils.autologging_utils: MLflow autologging encountered a warning: \"/Users/tawate/Documents/HousePredictionMLPipeline/.venv/lib/python3.12/site-packages/mlflow/types/utils.py:452: UserWarning: Hint: Inferred schema contains integer column(s). Integer columns in Python cannot represent missing values. If your input data contains missing values at inference time, it will be encoded as floats and will cause a schema enforcement error. The best way to avoid this problem is to infer the model schema based on a realistic data sample (training dataset) that includes missing values. Alternatively, you can declare integer columns as doubles (float64) whenever these columns may have missing values. See `Handling Integers With Missing Values <https://www.mlflow.org/docs/latest/models.html#handling-integers-with-missing-values>`_ for more details.\"\n",
      "\n"
     ]
    },
    {
     "name": "stdout",
     "output_type": "stream",
     "text": [
      "🏃 View run abundant-shrike-799 at: http://127.0.0.1:8080/#/experiments/0/runs/c39b04a8a70d4c55951fa046c4399362\n",
      "\n",
      "🧪 View experiment at: http://127.0.0.1:8080/#/experiments/0                        \n",
      "\n",
      " 70%|███████   | 35/50 [02:41<01:09,  4.67s/trial, best loss: 0.0006643596864430723]"
     ]
    },
    {
     "name": "stderr",
     "output_type": "stream",
     "text": [
      "2025-08-12 18:27:38,007 - hyperopt.tpe - INFO - build_posterior_wrapper took 0.007272 seconds\n",
      "2025-08-12 18:27:38,008 - hyperopt.tpe - INFO - TPE using 35/35 trials with best loss 0.000664\n",
      "2025/08/12 18:27:38 WARNING mlflow.utils.autologging_utils: MLflow autologging encountered a warning: \"/Users/tawate/Documents/HousePredictionMLPipeline/.venv/lib/python3.12/site-packages/mlflow/types/utils.py:452: UserWarning: Hint: Inferred schema contains integer column(s). Integer columns in Python cannot represent missing values. If your input data contains missing values at inference time, it will be encoded as floats and will cause a schema enforcement error. The best way to avoid this problem is to infer the model schema based on a realistic data sample (training dataset) that includes missing values. Alternatively, you can declare integer columns as doubles (float64) whenever these columns may have missing values. See `Handling Integers With Missing Values <https://www.mlflow.org/docs/latest/models.html#handling-integers-with-missing-values>`_ for more details.\"\n",
      "\n",
      "2025/08/12 18:27:38 WARNING mlflow.utils.autologging_utils: MLflow autologging encountered a warning: \"/Users/tawate/Documents/HousePredictionMLPipeline/.venv/lib/python3.12/site-packages/mlflow/types/utils.py:452: UserWarning: Hint: Inferred schema contains integer column(s). Integer columns in Python cannot represent missing values. If your input data contains missing values at inference time, it will be encoded as floats and will cause a schema enforcement error. The best way to avoid this problem is to infer the model schema based on a realistic data sample (training dataset) that includes missing values. Alternatively, you can declare integer columns as doubles (float64) whenever these columns may have missing values. See `Handling Integers With Missing Values <https://www.mlflow.org/docs/latest/models.html#handling-integers-with-missing-values>`_ for more details.\"\n",
      "\n"
     ]
    },
    {
     "name": "stdout",
     "output_type": "stream",
     "text": [
      "🏃 View run resilient-ram-676 at: http://127.0.0.1:8080/#/experiments/0/runs/77022a1bf8c24b8f88e405d39688bbd7\n",
      "\n",
      "🧪 View experiment at: http://127.0.0.1:8080/#/experiments/0                        \n",
      "\n",
      " 72%|███████▏  | 36/50 [02:46<01:06,  4.78s/trial, best loss: 0.0006643596864430723]"
     ]
    },
    {
     "name": "stderr",
     "output_type": "stream",
     "text": [
      "2025-08-12 18:27:43,042 - hyperopt.tpe - INFO - build_posterior_wrapper took 0.010510 seconds\n",
      "2025-08-12 18:27:43,043 - hyperopt.tpe - INFO - TPE using 36/36 trials with best loss 0.000664\n",
      "2025/08/12 18:27:43 WARNING mlflow.utils.autologging_utils: MLflow autologging encountered a warning: \"/Users/tawate/Documents/HousePredictionMLPipeline/.venv/lib/python3.12/site-packages/mlflow/types/utils.py:452: UserWarning: Hint: Inferred schema contains integer column(s). Integer columns in Python cannot represent missing values. If your input data contains missing values at inference time, it will be encoded as floats and will cause a schema enforcement error. The best way to avoid this problem is to infer the model schema based on a realistic data sample (training dataset) that includes missing values. Alternatively, you can declare integer columns as doubles (float64) whenever these columns may have missing values. See `Handling Integers With Missing Values <https://www.mlflow.org/docs/latest/models.html#handling-integers-with-missing-values>`_ for more details.\"\n",
      "\n",
      "2025/08/12 18:27:43 WARNING mlflow.utils.autologging_utils: MLflow autologging encountered a warning: \"/Users/tawate/Documents/HousePredictionMLPipeline/.venv/lib/python3.12/site-packages/mlflow/types/utils.py:452: UserWarning: Hint: Inferred schema contains integer column(s). Integer columns in Python cannot represent missing values. If your input data contains missing values at inference time, it will be encoded as floats and will cause a schema enforcement error. The best way to avoid this problem is to infer the model schema based on a realistic data sample (training dataset) that includes missing values. Alternatively, you can declare integer columns as doubles (float64) whenever these columns may have missing values. See `Handling Integers With Missing Values <https://www.mlflow.org/docs/latest/models.html#handling-integers-with-missing-values>`_ for more details.\"\n",
      "\n"
     ]
    },
    {
     "name": "stdout",
     "output_type": "stream",
     "text": [
      "🏃 View run beautiful-ox-145 at: http://127.0.0.1:8080/#/experiments/0/runs/0ee1be37a001497990b4955ecc290ce2\n",
      "\n",
      "🧪 View experiment at: http://127.0.0.1:8080/#/experiments/0                        \n",
      "\n",
      " 74%|███████▍  | 37/50 [02:51<01:05,  5.03s/trial, best loss: 0.0006643596864430723]"
     ]
    },
    {
     "name": "stderr",
     "output_type": "stream",
     "text": [
      "2025-08-12 18:27:48,676 - hyperopt.tpe - INFO - build_posterior_wrapper took 0.005315 seconds\n",
      "2025-08-12 18:27:48,677 - hyperopt.tpe - INFO - TPE using 37/37 trials with best loss 0.000664\n",
      "2025/08/12 18:27:48 WARNING mlflow.utils.autologging_utils: MLflow autologging encountered a warning: \"/Users/tawate/Documents/HousePredictionMLPipeline/.venv/lib/python3.12/site-packages/mlflow/types/utils.py:452: UserWarning: Hint: Inferred schema contains integer column(s). Integer columns in Python cannot represent missing values. If your input data contains missing values at inference time, it will be encoded as floats and will cause a schema enforcement error. The best way to avoid this problem is to infer the model schema based on a realistic data sample (training dataset) that includes missing values. Alternatively, you can declare integer columns as doubles (float64) whenever these columns may have missing values. See `Handling Integers With Missing Values <https://www.mlflow.org/docs/latest/models.html#handling-integers-with-missing-values>`_ for more details.\"\n",
      "\n",
      "2025/08/12 18:27:48 WARNING mlflow.utils.autologging_utils: MLflow autologging encountered a warning: \"/Users/tawate/Documents/HousePredictionMLPipeline/.venv/lib/python3.12/site-packages/mlflow/types/utils.py:452: UserWarning: Hint: Inferred schema contains integer column(s). Integer columns in Python cannot represent missing values. If your input data contains missing values at inference time, it will be encoded as floats and will cause a schema enforcement error. The best way to avoid this problem is to infer the model schema based on a realistic data sample (training dataset) that includes missing values. Alternatively, you can declare integer columns as doubles (float64) whenever these columns may have missing values. See `Handling Integers With Missing Values <https://www.mlflow.org/docs/latest/models.html#handling-integers-with-missing-values>`_ for more details.\"\n",
      "\n"
     ]
    },
    {
     "name": "stdout",
     "output_type": "stream",
     "text": [
      "🏃 View run sedate-flea-428 at: http://127.0.0.1:8080/#/experiments/0/runs/c5a701580fa243d4a1f5c18d0c5aa688\n",
      "\n",
      "🧪 View experiment at: http://127.0.0.1:8080/#/experiments/0                        \n",
      "\n",
      " 76%|███████▌  | 38/50 [02:56<00:59,  4.99s/trial, best loss: 0.0006643596864430723]"
     ]
    },
    {
     "name": "stderr",
     "output_type": "stream",
     "text": [
      "2025-08-12 18:27:53,583 - hyperopt.tpe - INFO - build_posterior_wrapper took 0.011294 seconds\n",
      "2025-08-12 18:27:53,584 - hyperopt.tpe - INFO - TPE using 38/38 trials with best loss 0.000664\n",
      "2025/08/12 18:27:53 WARNING mlflow.utils.autologging_utils: MLflow autologging encountered a warning: \"/Users/tawate/Documents/HousePredictionMLPipeline/.venv/lib/python3.12/site-packages/mlflow/types/utils.py:452: UserWarning: Hint: Inferred schema contains integer column(s). Integer columns in Python cannot represent missing values. If your input data contains missing values at inference time, it will be encoded as floats and will cause a schema enforcement error. The best way to avoid this problem is to infer the model schema based on a realistic data sample (training dataset) that includes missing values. Alternatively, you can declare integer columns as doubles (float64) whenever these columns may have missing values. See `Handling Integers With Missing Values <https://www.mlflow.org/docs/latest/models.html#handling-integers-with-missing-values>`_ for more details.\"\n",
      "\n",
      "2025/08/12 18:27:53 WARNING mlflow.utils.autologging_utils: MLflow autologging encountered a warning: \"/Users/tawate/Documents/HousePredictionMLPipeline/.venv/lib/python3.12/site-packages/mlflow/types/utils.py:452: UserWarning: Hint: Inferred schema contains integer column(s). Integer columns in Python cannot represent missing values. If your input data contains missing values at inference time, it will be encoded as floats and will cause a schema enforcement error. The best way to avoid this problem is to infer the model schema based on a realistic data sample (training dataset) that includes missing values. Alternatively, you can declare integer columns as doubles (float64) whenever these columns may have missing values. See `Handling Integers With Missing Values <https://www.mlflow.org/docs/latest/models.html#handling-integers-with-missing-values>`_ for more details.\"\n",
      "\n"
     ]
    },
    {
     "name": "stdout",
     "output_type": "stream",
     "text": [
      "🏃 View run bold-jay-954 at: http://127.0.0.1:8080/#/experiments/0/runs/40274ac86914443bb0bfa54963b1a723\n",
      "\n",
      "🧪 View experiment at: http://127.0.0.1:8080/#/experiments/0                        \n",
      "\n",
      " 78%|███████▊  | 39/50 [03:00<00:51,  4.71s/trial, best loss: 0.0006643596864430723]"
     ]
    },
    {
     "name": "stderr",
     "output_type": "stream",
     "text": [
      "2025-08-12 18:27:57,609 - hyperopt.tpe - INFO - build_posterior_wrapper took 0.006536 seconds\n",
      "2025-08-12 18:27:57,609 - hyperopt.tpe - INFO - TPE using 39/39 trials with best loss 0.000664\n",
      "2025/08/12 18:27:57 WARNING mlflow.utils.autologging_utils: MLflow autologging encountered a warning: \"/Users/tawate/Documents/HousePredictionMLPipeline/.venv/lib/python3.12/site-packages/mlflow/types/utils.py:452: UserWarning: Hint: Inferred schema contains integer column(s). Integer columns in Python cannot represent missing values. If your input data contains missing values at inference time, it will be encoded as floats and will cause a schema enforcement error. The best way to avoid this problem is to infer the model schema based on a realistic data sample (training dataset) that includes missing values. Alternatively, you can declare integer columns as doubles (float64) whenever these columns may have missing values. See `Handling Integers With Missing Values <https://www.mlflow.org/docs/latest/models.html#handling-integers-with-missing-values>`_ for more details.\"\n",
      "\n",
      "2025/08/12 18:27:57 WARNING mlflow.utils.autologging_utils: MLflow autologging encountered a warning: \"/Users/tawate/Documents/HousePredictionMLPipeline/.venv/lib/python3.12/site-packages/mlflow/types/utils.py:452: UserWarning: Hint: Inferred schema contains integer column(s). Integer columns in Python cannot represent missing values. If your input data contains missing values at inference time, it will be encoded as floats and will cause a schema enforcement error. The best way to avoid this problem is to infer the model schema based on a realistic data sample (training dataset) that includes missing values. Alternatively, you can declare integer columns as doubles (float64) whenever these columns may have missing values. See `Handling Integers With Missing Values <https://www.mlflow.org/docs/latest/models.html#handling-integers-with-missing-values>`_ for more details.\"\n",
      "\n"
     ]
    },
    {
     "name": "stdout",
     "output_type": "stream",
     "text": [
      "🏃 View run spiffy-crab-833 at: http://127.0.0.1:8080/#/experiments/0/runs/c877da64b45844c48db20c67ae994f1f\n",
      "\n",
      "🧪 View experiment at: http://127.0.0.1:8080/#/experiments/0                        \n",
      "\n",
      " 80%|████████  | 40/50 [03:05<00:47,  4.71s/trial, best loss: 0.0006643596864430723]"
     ]
    },
    {
     "name": "stderr",
     "output_type": "stream",
     "text": [
      "2025-08-12 18:28:02,333 - hyperopt.tpe - INFO - build_posterior_wrapper took 0.005618 seconds\n",
      "2025-08-12 18:28:02,333 - hyperopt.tpe - INFO - TPE using 40/40 trials with best loss 0.000664\n",
      "2025/08/12 18:28:02 WARNING mlflow.utils.autologging_utils: MLflow autologging encountered a warning: \"/Users/tawate/Documents/HousePredictionMLPipeline/.venv/lib/python3.12/site-packages/mlflow/types/utils.py:452: UserWarning: Hint: Inferred schema contains integer column(s). Integer columns in Python cannot represent missing values. If your input data contains missing values at inference time, it will be encoded as floats and will cause a schema enforcement error. The best way to avoid this problem is to infer the model schema based on a realistic data sample (training dataset) that includes missing values. Alternatively, you can declare integer columns as doubles (float64) whenever these columns may have missing values. See `Handling Integers With Missing Values <https://www.mlflow.org/docs/latest/models.html#handling-integers-with-missing-values>`_ for more details.\"\n",
      "\n",
      "2025/08/12 18:28:02 WARNING mlflow.utils.autologging_utils: MLflow autologging encountered a warning: \"/Users/tawate/Documents/HousePredictionMLPipeline/.venv/lib/python3.12/site-packages/mlflow/types/utils.py:452: UserWarning: Hint: Inferred schema contains integer column(s). Integer columns in Python cannot represent missing values. If your input data contains missing values at inference time, it will be encoded as floats and will cause a schema enforcement error. The best way to avoid this problem is to infer the model schema based on a realistic data sample (training dataset) that includes missing values. Alternatively, you can declare integer columns as doubles (float64) whenever these columns may have missing values. See `Handling Integers With Missing Values <https://www.mlflow.org/docs/latest/models.html#handling-integers-with-missing-values>`_ for more details.\"\n",
      "\n"
     ]
    },
    {
     "name": "stdout",
     "output_type": "stream",
     "text": [
      "🏃 View run upset-elk-904 at: http://127.0.0.1:8080/#/experiments/0/runs/69efc62facd142b0a476b6044cb9aa4d\n",
      "\n",
      "🧪 View experiment at: http://127.0.0.1:8080/#/experiments/0                        \n",
      "\n",
      " 82%|████████▏ | 41/50 [03:10<00:42,  4.69s/trial, best loss: 0.0006643596864430723]"
     ]
    },
    {
     "name": "stderr",
     "output_type": "stream",
     "text": [
      "2025-08-12 18:28:06,972 - hyperopt.tpe - INFO - build_posterior_wrapper took 0.006338 seconds\n",
      "2025-08-12 18:28:06,973 - hyperopt.tpe - INFO - TPE using 41/41 trials with best loss 0.000664\n",
      "2025/08/12 18:28:07 WARNING mlflow.utils.autologging_utils: MLflow autologging encountered a warning: \"/Users/tawate/Documents/HousePredictionMLPipeline/.venv/lib/python3.12/site-packages/mlflow/types/utils.py:452: UserWarning: Hint: Inferred schema contains integer column(s). Integer columns in Python cannot represent missing values. If your input data contains missing values at inference time, it will be encoded as floats and will cause a schema enforcement error. The best way to avoid this problem is to infer the model schema based on a realistic data sample (training dataset) that includes missing values. Alternatively, you can declare integer columns as doubles (float64) whenever these columns may have missing values. See `Handling Integers With Missing Values <https://www.mlflow.org/docs/latest/models.html#handling-integers-with-missing-values>`_ for more details.\"\n",
      "\n",
      "2025/08/12 18:28:07 WARNING mlflow.utils.autologging_utils: MLflow autologging encountered a warning: \"/Users/tawate/Documents/HousePredictionMLPipeline/.venv/lib/python3.12/site-packages/mlflow/types/utils.py:452: UserWarning: Hint: Inferred schema contains integer column(s). Integer columns in Python cannot represent missing values. If your input data contains missing values at inference time, it will be encoded as floats and will cause a schema enforcement error. The best way to avoid this problem is to infer the model schema based on a realistic data sample (training dataset) that includes missing values. Alternatively, you can declare integer columns as doubles (float64) whenever these columns may have missing values. See `Handling Integers With Missing Values <https://www.mlflow.org/docs/latest/models.html#handling-integers-with-missing-values>`_ for more details.\"\n",
      "\n"
     ]
    },
    {
     "name": "stdout",
     "output_type": "stream",
     "text": [
      "🏃 View run valuable-fawn-578 at: http://127.0.0.1:8080/#/experiments/0/runs/6fa9fa93a98e421ea95d661fe1f3042b\n",
      "\n",
      "🧪 View experiment at: http://127.0.0.1:8080/#/experiments/0                        \n",
      "\n",
      " 84%|████████▍ | 42/50 [03:14<00:36,  4.59s/trial, best loss: 0.0006643596864430723]"
     ]
    },
    {
     "name": "stderr",
     "output_type": "stream",
     "text": [
      "2025-08-12 18:28:11,312 - hyperopt.tpe - INFO - build_posterior_wrapper took 0.005020 seconds\n",
      "2025-08-12 18:28:11,313 - hyperopt.tpe - INFO - TPE using 42/42 trials with best loss 0.000664\n",
      "2025/08/12 18:28:11 WARNING mlflow.utils.autologging_utils: MLflow autologging encountered a warning: \"/Users/tawate/Documents/HousePredictionMLPipeline/.venv/lib/python3.12/site-packages/mlflow/types/utils.py:452: UserWarning: Hint: Inferred schema contains integer column(s). Integer columns in Python cannot represent missing values. If your input data contains missing values at inference time, it will be encoded as floats and will cause a schema enforcement error. The best way to avoid this problem is to infer the model schema based on a realistic data sample (training dataset) that includes missing values. Alternatively, you can declare integer columns as doubles (float64) whenever these columns may have missing values. See `Handling Integers With Missing Values <https://www.mlflow.org/docs/latest/models.html#handling-integers-with-missing-values>`_ for more details.\"\n",
      "\n",
      "2025/08/12 18:28:11 WARNING mlflow.utils.autologging_utils: MLflow autologging encountered a warning: \"/Users/tawate/Documents/HousePredictionMLPipeline/.venv/lib/python3.12/site-packages/mlflow/types/utils.py:452: UserWarning: Hint: Inferred schema contains integer column(s). Integer columns in Python cannot represent missing values. If your input data contains missing values at inference time, it will be encoded as floats and will cause a schema enforcement error. The best way to avoid this problem is to infer the model schema based on a realistic data sample (training dataset) that includes missing values. Alternatively, you can declare integer columns as doubles (float64) whenever these columns may have missing values. See `Handling Integers With Missing Values <https://www.mlflow.org/docs/latest/models.html#handling-integers-with-missing-values>`_ for more details.\"\n",
      "\n"
     ]
    },
    {
     "name": "stdout",
     "output_type": "stream",
     "text": [
      "🏃 View run unique-grub-658 at: http://127.0.0.1:8080/#/experiments/0/runs/64c174ec88854c749a857ebc4d9dfbc0\n",
      "\n",
      "🧪 View experiment at: http://127.0.0.1:8080/#/experiments/0                        \n",
      "\n",
      " 86%|████████▌ | 43/50 [03:18<00:31,  4.44s/trial, best loss: 0.0006643596864430723]"
     ]
    },
    {
     "name": "stderr",
     "output_type": "stream",
     "text": [
      "2025-08-12 18:28:15,405 - hyperopt.tpe - INFO - build_posterior_wrapper took 0.005437 seconds\n",
      "2025-08-12 18:28:15,406 - hyperopt.tpe - INFO - TPE using 43/43 trials with best loss 0.000664\n",
      "2025/08/12 18:28:15 WARNING mlflow.utils.autologging_utils: MLflow autologging encountered a warning: \"/Users/tawate/Documents/HousePredictionMLPipeline/.venv/lib/python3.12/site-packages/mlflow/types/utils.py:452: UserWarning: Hint: Inferred schema contains integer column(s). Integer columns in Python cannot represent missing values. If your input data contains missing values at inference time, it will be encoded as floats and will cause a schema enforcement error. The best way to avoid this problem is to infer the model schema based on a realistic data sample (training dataset) that includes missing values. Alternatively, you can declare integer columns as doubles (float64) whenever these columns may have missing values. See `Handling Integers With Missing Values <https://www.mlflow.org/docs/latest/models.html#handling-integers-with-missing-values>`_ for more details.\"\n",
      "\n",
      "2025/08/12 18:28:15 WARNING mlflow.utils.autologging_utils: MLflow autologging encountered a warning: \"/Users/tawate/Documents/HousePredictionMLPipeline/.venv/lib/python3.12/site-packages/mlflow/types/utils.py:452: UserWarning: Hint: Inferred schema contains integer column(s). Integer columns in Python cannot represent missing values. If your input data contains missing values at inference time, it will be encoded as floats and will cause a schema enforcement error. The best way to avoid this problem is to infer the model schema based on a realistic data sample (training dataset) that includes missing values. Alternatively, you can declare integer columns as doubles (float64) whenever these columns may have missing values. See `Handling Integers With Missing Values <https://www.mlflow.org/docs/latest/models.html#handling-integers-with-missing-values>`_ for more details.\"\n",
      "\n"
     ]
    },
    {
     "name": "stdout",
     "output_type": "stream",
     "text": [
      "🏃 View run puzzled-quail-423 at: http://127.0.0.1:8080/#/experiments/0/runs/71b98d0720f84b32ac794b31521378b8\n",
      "\n",
      "🧪 View experiment at: http://127.0.0.1:8080/#/experiments/0                        \n",
      "\n",
      " 88%|████████▊ | 44/50 [03:22<00:26,  4.40s/trial, best loss: 0.0006643596864430723]"
     ]
    },
    {
     "name": "stderr",
     "output_type": "stream",
     "text": [
      "2025-08-12 18:28:19,705 - hyperopt.tpe - INFO - build_posterior_wrapper took 0.006122 seconds\n",
      "2025-08-12 18:28:19,706 - hyperopt.tpe - INFO - TPE using 44/44 trials with best loss 0.000664\n",
      "2025/08/12 18:28:19 WARNING mlflow.utils.autologging_utils: MLflow autologging encountered a warning: \"/Users/tawate/Documents/HousePredictionMLPipeline/.venv/lib/python3.12/site-packages/mlflow/types/utils.py:452: UserWarning: Hint: Inferred schema contains integer column(s). Integer columns in Python cannot represent missing values. If your input data contains missing values at inference time, it will be encoded as floats and will cause a schema enforcement error. The best way to avoid this problem is to infer the model schema based on a realistic data sample (training dataset) that includes missing values. Alternatively, you can declare integer columns as doubles (float64) whenever these columns may have missing values. See `Handling Integers With Missing Values <https://www.mlflow.org/docs/latest/models.html#handling-integers-with-missing-values>`_ for more details.\"\n",
      "\n",
      "2025/08/12 18:28:19 WARNING mlflow.utils.autologging_utils: MLflow autologging encountered a warning: \"/Users/tawate/Documents/HousePredictionMLPipeline/.venv/lib/python3.12/site-packages/mlflow/types/utils.py:452: UserWarning: Hint: Inferred schema contains integer column(s). Integer columns in Python cannot represent missing values. If your input data contains missing values at inference time, it will be encoded as floats and will cause a schema enforcement error. The best way to avoid this problem is to infer the model schema based on a realistic data sample (training dataset) that includes missing values. Alternatively, you can declare integer columns as doubles (float64) whenever these columns may have missing values. See `Handling Integers With Missing Values <https://www.mlflow.org/docs/latest/models.html#handling-integers-with-missing-values>`_ for more details.\"\n",
      "\n"
     ]
    },
    {
     "name": "stdout",
     "output_type": "stream",
     "text": [
      "🏃 View run traveling-hare-454 at: http://127.0.0.1:8080/#/experiments/0/runs/d6238104c88942ceb15f9f2af34a6312\n",
      "\n",
      "🧪 View experiment at: http://127.0.0.1:8080/#/experiments/0                        \n",
      "\n",
      " 90%|█████████ | 45/50 [03:27<00:22,  4.47s/trial, best loss: 0.0006643596864430723]"
     ]
    },
    {
     "name": "stderr",
     "output_type": "stream",
     "text": [
      "2025-08-12 18:28:24,342 - hyperopt.tpe - INFO - build_posterior_wrapper took 0.005756 seconds\n",
      "2025-08-12 18:28:24,342 - hyperopt.tpe - INFO - TPE using 45/45 trials with best loss 0.000664\n",
      "2025/08/12 18:28:24 WARNING mlflow.utils.autologging_utils: MLflow autologging encountered a warning: \"/Users/tawate/Documents/HousePredictionMLPipeline/.venv/lib/python3.12/site-packages/mlflow/types/utils.py:452: UserWarning: Hint: Inferred schema contains integer column(s). Integer columns in Python cannot represent missing values. If your input data contains missing values at inference time, it will be encoded as floats and will cause a schema enforcement error. The best way to avoid this problem is to infer the model schema based on a realistic data sample (training dataset) that includes missing values. Alternatively, you can declare integer columns as doubles (float64) whenever these columns may have missing values. See `Handling Integers With Missing Values <https://www.mlflow.org/docs/latest/models.html#handling-integers-with-missing-values>`_ for more details.\"\n",
      "\n",
      "2025/08/12 18:28:24 WARNING mlflow.utils.autologging_utils: MLflow autologging encountered a warning: \"/Users/tawate/Documents/HousePredictionMLPipeline/.venv/lib/python3.12/site-packages/mlflow/types/utils.py:452: UserWarning: Hint: Inferred schema contains integer column(s). Integer columns in Python cannot represent missing values. If your input data contains missing values at inference time, it will be encoded as floats and will cause a schema enforcement error. The best way to avoid this problem is to infer the model schema based on a realistic data sample (training dataset) that includes missing values. Alternatively, you can declare integer columns as doubles (float64) whenever these columns may have missing values. See `Handling Integers With Missing Values <https://www.mlflow.org/docs/latest/models.html#handling-integers-with-missing-values>`_ for more details.\"\n",
      "\n"
     ]
    },
    {
     "name": "stdout",
     "output_type": "stream",
     "text": [
      "🏃 View run spiffy-panda-741 at: http://127.0.0.1:8080/#/experiments/0/runs/7e7487349e04470ebbe62ab242aac3d8\n",
      "\n",
      "🧪 View experiment at: http://127.0.0.1:8080/#/experiments/0                        \n",
      "\n",
      " 92%|█████████▏| 46/50 [03:33<00:19,  4.82s/trial, best loss: 0.0006643596864430723]"
     ]
    },
    {
     "name": "stderr",
     "output_type": "stream",
     "text": [
      "2025-08-12 18:28:29,968 - hyperopt.tpe - INFO - build_posterior_wrapper took 0.005176 seconds\n",
      "2025-08-12 18:28:29,968 - hyperopt.tpe - INFO - TPE using 46/46 trials with best loss 0.000664\n",
      "2025/08/12 18:28:30 WARNING mlflow.utils.autologging_utils: MLflow autologging encountered a warning: \"/Users/tawate/Documents/HousePredictionMLPipeline/.venv/lib/python3.12/site-packages/mlflow/types/utils.py:452: UserWarning: Hint: Inferred schema contains integer column(s). Integer columns in Python cannot represent missing values. If your input data contains missing values at inference time, it will be encoded as floats and will cause a schema enforcement error. The best way to avoid this problem is to infer the model schema based on a realistic data sample (training dataset) that includes missing values. Alternatively, you can declare integer columns as doubles (float64) whenever these columns may have missing values. See `Handling Integers With Missing Values <https://www.mlflow.org/docs/latest/models.html#handling-integers-with-missing-values>`_ for more details.\"\n",
      "\n",
      "2025/08/12 18:28:30 WARNING mlflow.utils.autologging_utils: MLflow autologging encountered a warning: \"/Users/tawate/Documents/HousePredictionMLPipeline/.venv/lib/python3.12/site-packages/mlflow/types/utils.py:452: UserWarning: Hint: Inferred schema contains integer column(s). Integer columns in Python cannot represent missing values. If your input data contains missing values at inference time, it will be encoded as floats and will cause a schema enforcement error. The best way to avoid this problem is to infer the model schema based on a realistic data sample (training dataset) that includes missing values. Alternatively, you can declare integer columns as doubles (float64) whenever these columns may have missing values. See `Handling Integers With Missing Values <https://www.mlflow.org/docs/latest/models.html#handling-integers-with-missing-values>`_ for more details.\"\n",
      "\n"
     ]
    },
    {
     "name": "stdout",
     "output_type": "stream",
     "text": [
      "🏃 View run likeable-wren-26 at: http://127.0.0.1:8080/#/experiments/0/runs/ba81bb47bcf44cb39258ac0941d3beb4\n",
      "\n",
      "🧪 View experiment at: http://127.0.0.1:8080/#/experiments/0                        \n",
      "\n",
      " 94%|█████████▍| 47/50 [03:37<00:13,  4.53s/trial, best loss: 0.0006643596864430723]"
     ]
    },
    {
     "name": "stderr",
     "output_type": "stream",
     "text": [
      "2025-08-12 18:28:33,849 - hyperopt.tpe - INFO - build_posterior_wrapper took 0.006851 seconds\n",
      "2025-08-12 18:28:33,850 - hyperopt.tpe - INFO - TPE using 47/47 trials with best loss 0.000664\n",
      "2025/08/12 18:28:33 WARNING mlflow.utils.autologging_utils: MLflow autologging encountered a warning: \"/Users/tawate/Documents/HousePredictionMLPipeline/.venv/lib/python3.12/site-packages/mlflow/types/utils.py:452: UserWarning: Hint: Inferred schema contains integer column(s). Integer columns in Python cannot represent missing values. If your input data contains missing values at inference time, it will be encoded as floats and will cause a schema enforcement error. The best way to avoid this problem is to infer the model schema based on a realistic data sample (training dataset) that includes missing values. Alternatively, you can declare integer columns as doubles (float64) whenever these columns may have missing values. See `Handling Integers With Missing Values <https://www.mlflow.org/docs/latest/models.html#handling-integers-with-missing-values>`_ for more details.\"\n",
      "\n",
      "2025/08/12 18:28:34 WARNING mlflow.utils.autologging_utils: MLflow autologging encountered a warning: \"/Users/tawate/Documents/HousePredictionMLPipeline/.venv/lib/python3.12/site-packages/mlflow/types/utils.py:452: UserWarning: Hint: Inferred schema contains integer column(s). Integer columns in Python cannot represent missing values. If your input data contains missing values at inference time, it will be encoded as floats and will cause a schema enforcement error. The best way to avoid this problem is to infer the model schema based on a realistic data sample (training dataset) that includes missing values. Alternatively, you can declare integer columns as doubles (float64) whenever these columns may have missing values. See `Handling Integers With Missing Values <https://www.mlflow.org/docs/latest/models.html#handling-integers-with-missing-values>`_ for more details.\"\n",
      "\n"
     ]
    },
    {
     "name": "stdout",
     "output_type": "stream",
     "text": [
      "🏃 View run skittish-steed-391 at: http://127.0.0.1:8080/#/experiments/0/runs/4c4ca47877f44b2db169678c8b55efe2\n",
      "\n",
      "🧪 View experiment at: http://127.0.0.1:8080/#/experiments/0                        \n",
      "\n",
      " 96%|█████████▌| 48/50 [03:41<00:08,  4.35s/trial, best loss: 0.0006643596864430723]"
     ]
    },
    {
     "name": "stderr",
     "output_type": "stream",
     "text": [
      "2025-08-12 18:28:37,767 - hyperopt.tpe - INFO - build_posterior_wrapper took 0.005875 seconds\n",
      "2025-08-12 18:28:37,768 - hyperopt.tpe - INFO - TPE using 48/48 trials with best loss 0.000664\n",
      "2025/08/12 18:28:37 WARNING mlflow.utils.autologging_utils: MLflow autologging encountered a warning: \"/Users/tawate/Documents/HousePredictionMLPipeline/.venv/lib/python3.12/site-packages/mlflow/types/utils.py:452: UserWarning: Hint: Inferred schema contains integer column(s). Integer columns in Python cannot represent missing values. If your input data contains missing values at inference time, it will be encoded as floats and will cause a schema enforcement error. The best way to avoid this problem is to infer the model schema based on a realistic data sample (training dataset) that includes missing values. Alternatively, you can declare integer columns as doubles (float64) whenever these columns may have missing values. See `Handling Integers With Missing Values <https://www.mlflow.org/docs/latest/models.html#handling-integers-with-missing-values>`_ for more details.\"\n",
      "\n",
      "2025/08/12 18:28:38 WARNING mlflow.utils.autologging_utils: MLflow autologging encountered a warning: \"/Users/tawate/Documents/HousePredictionMLPipeline/.venv/lib/python3.12/site-packages/mlflow/types/utils.py:452: UserWarning: Hint: Inferred schema contains integer column(s). Integer columns in Python cannot represent missing values. If your input data contains missing values at inference time, it will be encoded as floats and will cause a schema enforcement error. The best way to avoid this problem is to infer the model schema based on a realistic data sample (training dataset) that includes missing values. Alternatively, you can declare integer columns as doubles (float64) whenever these columns may have missing values. See `Handling Integers With Missing Values <https://www.mlflow.org/docs/latest/models.html#handling-integers-with-missing-values>`_ for more details.\"\n",
      "\n"
     ]
    },
    {
     "name": "stdout",
     "output_type": "stream",
     "text": [
      "🏃 View run judicious-rook-60 at: http://127.0.0.1:8080/#/experiments/0/runs/0edcf3f8843645caab56c4f0402a912b\n",
      "\n",
      "🧪 View experiment at: http://127.0.0.1:8080/#/experiments/0                        \n",
      "\n",
      " 98%|█████████▊| 49/50 [03:45<00:04,  4.37s/trial, best loss: 0.0006643596864430723]"
     ]
    },
    {
     "name": "stderr",
     "output_type": "stream",
     "text": [
      "2025-08-12 18:28:42,181 - hyperopt.tpe - INFO - build_posterior_wrapper took 0.007526 seconds\n",
      "2025-08-12 18:28:42,182 - hyperopt.tpe - INFO - TPE using 49/49 trials with best loss 0.000664\n",
      "2025/08/12 18:28:42 WARNING mlflow.utils.autologging_utils: MLflow autologging encountered a warning: \"/Users/tawate/Documents/HousePredictionMLPipeline/.venv/lib/python3.12/site-packages/mlflow/types/utils.py:452: UserWarning: Hint: Inferred schema contains integer column(s). Integer columns in Python cannot represent missing values. If your input data contains missing values at inference time, it will be encoded as floats and will cause a schema enforcement error. The best way to avoid this problem is to infer the model schema based on a realistic data sample (training dataset) that includes missing values. Alternatively, you can declare integer columns as doubles (float64) whenever these columns may have missing values. See `Handling Integers With Missing Values <https://www.mlflow.org/docs/latest/models.html#handling-integers-with-missing-values>`_ for more details.\"\n",
      "\n",
      "2025/08/12 18:28:42 WARNING mlflow.utils.autologging_utils: MLflow autologging encountered a warning: \"/Users/tawate/Documents/HousePredictionMLPipeline/.venv/lib/python3.12/site-packages/mlflow/types/utils.py:452: UserWarning: Hint: Inferred schema contains integer column(s). Integer columns in Python cannot represent missing values. If your input data contains missing values at inference time, it will be encoded as floats and will cause a schema enforcement error. The best way to avoid this problem is to infer the model schema based on a realistic data sample (training dataset) that includes missing values. Alternatively, you can declare integer columns as doubles (float64) whenever these columns may have missing values. See `Handling Integers With Missing Values <https://www.mlflow.org/docs/latest/models.html#handling-integers-with-missing-values>`_ for more details.\"\n",
      "\n"
     ]
    },
    {
     "name": "stdout",
     "output_type": "stream",
     "text": [
      "🏃 View run tasteful-snail-194 at: http://127.0.0.1:8080/#/experiments/0/runs/7be7234592e54cc484973553445030fa\n",
      "\n",
      "🧪 View experiment at: http://127.0.0.1:8080/#/experiments/0                        \n",
      "\n",
      "100%|██████████| 50/50 [03:49<00:00,  4.59s/trial, best loss: 0.0006643596864430723]\n",
      "🏃 View run hyperopt_optimization_regressor at: http://127.0.0.1:8080/#/experiments/0/runs/fc0bc262b6b84ffd9dc57498fb126629\n",
      "🧪 View experiment at: http://127.0.0.1:8080/#/experiments/0\n",
      "Best parameters found: {'max_depth': np.int64(4), 'min_samples_leaf': np.int64(8), 'min_samples_split': np.float64(0.7429712813822219), 'n_estimators': np.int64(58)}\n"
     ]
    }
   ],
   "source": [
    "from hyperopt import fmin, tpe, hp, STATUS_OK, Trials\n",
    "from sklearn.ensemble import RandomForestRegressor\n",
    "import mlflow\n",
    "\n",
    "# Set tracking URI and initialize MLflow autologging\n",
    "mlflow.set_tracking_uri(\"http://127.0.0.1:8080\")\n",
    "mlflow.autolog(silent=True)\n",
    "\n",
    "# Define the search space for hyperparameters\n",
    "space = {\n",
    "    'n_estimators': hp.choice('n_estimators', range(10, 300)),\n",
    "    'max_depth': hp.choice('max_depth', range(1, 20)),\n",
    "    'min_samples_split': hp.uniform('min_samples_split', 0.1, 1.0),\n",
    "    'min_samples_leaf': hp.choice('min_samples_leaf', range(1, 10))\n",
    "}\n",
    "\n",
    "# Define objective function\n",
    "def objective(params):\n",
    "    with mlflow.start_run(nested=True):\n",
    "        reg = RandomForestRegressor(\n",
    "            n_estimators=params['n_estimators'],\n",
    "            max_depth=params['max_depth'],\n",
    "            min_samples_split=params['min_samples_split'],\n",
    "            min_samples_leaf=params['min_samples_leaf'],\n",
    "            random_state=42\n",
    "        )\n",
    "        \n",
    "        reg.fit(X_train, y_train)\n",
    "        r2_score = reg.score(X_val, y_val)\n",
    "\n",
    "        return {'loss': -r2_score, 'status': STATUS_OK}\n",
    "\n",
    "# Run optimization\n",
    "trials = Trials()\n",
    "with mlflow.start_run(run_name='hyperopt_optimization_regressor'):\n",
    "    best = fmin(\n",
    "        fn=objective,\n",
    "        space=space,\n",
    "        algo=tpe.suggest,\n",
    "        max_evals=50,\n",
    "        trials=trials\n",
    "    )\n",
    "\n",
    "print(\"Best parameters found:\", best)"
   ]
  },
  {
   "cell_type": "code",
   "execution_count": 5,
   "metadata": {},
   "outputs": [
    {
     "data": {
      "text/plain": [
       "{'max_depth': np.int64(4),\n",
       " 'min_samples_leaf': np.int64(8),\n",
       " 'min_samples_split': np.float64(0.7429712813822219),\n",
       " 'n_estimators': np.int64(58)}"
      ]
     },
     "execution_count": 5,
     "metadata": {},
     "output_type": "execute_result"
    }
   ],
   "source": [
    "best"
   ]
  }
 ],
 "metadata": {
  "kernelspec": {
   "display_name": ".venv",
   "language": "python",
   "name": "python3"
  },
  "language_info": {
   "codemirror_mode": {
    "name": "ipython",
    "version": 3
   },
   "file_extension": ".py",
   "mimetype": "text/x-python",
   "name": "python",
   "nbconvert_exporter": "python",
   "pygments_lexer": "ipython3",
   "version": "3.12.10"
  }
 },
 "nbformat": 4,
 "nbformat_minor": 2
}
