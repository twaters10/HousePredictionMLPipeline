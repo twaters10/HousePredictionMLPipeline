{
 "cells": [
  {
   "cell_type": "code",
   "execution_count": 1,
   "metadata": {},
   "outputs": [
    {
     "name": "stderr",
     "output_type": "stream",
     "text": [
      "2025-08-07 13:42:35,253 - root - INFO - Starting S3CSVReader...\n",
      "2025-08-07 13:42:35,254 - steps.s3_ingest_data - INFO - Initializing S3 client with explicit AWS access keys.\n",
      "2025-08-07 13:42:35,620 - steps.s3_ingest_data - INFO - S3CSVReader initialized for bucket 'housepred-data' in region 'us-east-1'.\n",
      "2025-08-07 13:42:35,621 - steps.s3_ingest_data - INFO - Attempting to read 'House_Price_Prediction_Dataset.csv' from bucket 'housepred-data' with encoding 'utf-8'.\n",
      "2025-08-07 13:42:35,933 - steps.s3_ingest_data - INFO - Successfully fetched object 'House_Price_Prediction_Dataset.csv'.\n",
      "2025-08-07 13:42:35,964 - steps.s3_ingest_data - INFO - Successfully loaded 'House_Price_Prediction_Dataset.csv' into DataFrame. Shape: (2000, 10)\n",
      "2025-08-07 13:42:35,964 - root - INFO - Starting data cleaning process...\n",
      "2025-08-07 13:42:35,972 - root - INFO - Data preprocessing completed successfully.\n",
      "2025-08-07 13:42:35,973 - root - INFO - Dividing data into training and validation sets...\n",
      "2025-08-07 13:42:35,975 - root - INFO - Data splitting completed successfully.\n"
     ]
    }
   ],
   "source": [
    "import boto3\n",
    "import pandas as pd\n",
    "import os\n",
    "import io\n",
    "import sys\n",
    "\n",
    "# Configuration Access Keys\n",
    "current_dir = os.getcwd()\n",
    "project_root_dir = os.path.dirname(current_dir)\n",
    "sys.path.insert(0, project_root_dir)\n",
    "\n",
    "from steps.s3_ingest_data import *\n",
    "from steps.clean_data import *\n",
    "from config.access_keys import *\n",
    "import pandas as pd\n",
    "import logging\n",
    "if __name__ == \"__main__\":\n",
    "    logging.info(\"Starting S3CSVReader...\")\n",
    "    reader = S3CSVReader(bucket_name=S3_BUCKET_NAME, region_name=AWS_REGION, \n",
    "                         aws_access_key_id=S3_AWS_ACCESS_KEY_ID, aws_secret_access_key=S3_AWS_SECRET_ACCESS_KEY)\n",
    "    # Read the CSV file from S3\n",
    "    df = reader.read_csv(s3_key=S3_KEY, encoding='utf-8')\n",
    "    \n",
    "    # Clean, transform, and split the data.\n",
    "    processed_df = clean_data(df)\n",
    "    X_train, X_val, y_train, y_val = split_data(processed_df)"
   ]
  },
  {
   "cell_type": "code",
   "execution_count": null,
   "metadata": {},
   "outputs": [
    {
     "name": "stderr",
     "output_type": "stream",
     "text": [
      "2025/08/07 13:42:48 INFO mlflow.tracking.fluent: Experiment with name 'test_experiment' does not exist. Creating a new experiment.\n",
      "2025/08/07 13:42:48 INFO mlflow.bedrock: Enabled auto-tracing for Bedrock. Note that MLflow can only trace boto3 service clients that are created after this call. If you have already created one, please recreate the client by calling `boto3.client`.\n",
      "2025/08/07 13:42:48 INFO mlflow.tracking.fluent: Autologging successfully enabled for boto3.\n",
      "2025/08/07 13:42:48 WARNING mlflow.utils.autologging_utils: MLflow sklearn autologging is known to be compatible with 0.24.1 <= scikit-learn <= 1.6.1, but the installed version is 1.7.0. If you encounter errors during autologging, try upgrading / downgrading scikit-learn to a compatible version, or try upgrading MLflow.\n",
      "2025/08/07 13:42:57 INFO mlflow.tracking.fluent: Autologging successfully enabled for sklearn.\n",
      "2025/08/07 13:42:58 WARNING mlflow.utils.autologging_utils: MLflow autologging encountered a warning: \"/Users/tawate/Documents/HousePredictionMLPipeline/.venv/lib/python3.12/site-packages/mlflow/types/utils.py:452: UserWarning: Hint: Inferred schema contains integer column(s). Integer columns in Python cannot represent missing values. If your input data contains missing values at inference time, it will be encoded as floats and will cause a schema enforcement error. The best way to avoid this problem is to infer the model schema based on a realistic data sample (training dataset) that includes missing values. Alternatively, you can declare integer columns as doubles (float64) whenever these columns may have missing values. See `Handling Integers With Missing Values <https://www.mlflow.org/docs/latest/models.html#handling-integers-with-missing-values>`_ for more details.\"\n",
      "2025/08/07 13:42:58 WARNING mlflow.utils.autologging_utils: MLflow autologging encountered a warning: \"/Users/tawate/Documents/HousePredictionMLPipeline/.venv/lib/python3.12/site-packages/mlflow/types/utils.py:452: UserWarning: Hint: Inferred schema contains integer column(s). Integer columns in Python cannot represent missing values. If your input data contains missing values at inference time, it will be encoded as floats and will cause a schema enforcement error. The best way to avoid this problem is to infer the model schema based on a realistic data sample (training dataset) that includes missing values. Alternatively, you can declare integer columns as doubles (float64) whenever these columns may have missing values. See `Handling Integers With Missing Values <https://www.mlflow.org/docs/latest/models.html#handling-integers-with-missing-values>`_ for more details.\"\n",
      "2025/08/07 13:43:04 WARNING mlflow.utils.autologging_utils: MLflow autologging encountered a warning: \"/Users/tawate/Documents/HousePredictionMLPipeline/.venv/lib/python3.12/site-packages/mlflow/types/utils.py:452: UserWarning: Hint: Inferred schema contains integer column(s). Integer columns in Python cannot represent missing values. If your input data contains missing values at inference time, it will be encoded as floats and will cause a schema enforcement error. The best way to avoid this problem is to infer the model schema based on a realistic data sample (training dataset) that includes missing values. Alternatively, you can declare integer columns as doubles (float64) whenever these columns may have missing values. See `Handling Integers With Missing Values <https://www.mlflow.org/docs/latest/models.html#handling-integers-with-missing-values>`_ for more details.\"\n"
     ]
    },
    {
     "name": "stdout",
     "output_type": "stream",
     "text": [
      "Mean Squared Error: 78632086666.03287\n",
      "R-squared: -0.010710420220792383\n",
      "🏃 View run smiling-shrimp-37 at: http://127.0.0.1:8080/#/experiments/126250616536704321/runs/52732a67fa63444f907388bb6066a195\n",
      "🧪 View experiment at: http://127.0.0.1:8080/#/experiments/126250616536704321\n"
     ]
    }
   ],
   "source": [
    "# Build Linear Regression and Track with MLflow\n",
    "import mlflow\n",
    "mlflow.set_tracking_uri(uri=\"http://127.0.0.1:8080\")\n",
    "mlflow.set_experiment(experiment_name=\"test_experiment\")\n",
    "mlflow.autolog()\n",
    "with mlflow.start_run():\n",
    "    from sklearn.linear_model import LinearRegression\n",
    "    from sklearn.metrics import mean_squared_error, r2_score\n",
    "    # Initialize the Linear Regression model\n",
    "    model = LinearRegression()\n",
    "\n",
    "    # Train the model\n",
    "    model.fit(X_train, y_train)\n",
    "\n",
    "    # Model params\n",
    "    hpyerparameters = model.get_params()\n",
    "\n",
    "    # Make predictions on the validation set\n",
    "    y_pred = model.predict(X_val)\n",
    "\n",
    "    # Evaluate the model\n",
    "    mse = mean_squared_error(y_val, y_pred)\n",
    "    r2 = r2_score(y_val, y_pred)\n",
    "\n",
    "    print(f\"Mean Squared Error: {mse}\")\n",
    "    print(f\"R-squared: {r2}\")"
   ]
  },
  {
   "cell_type": "code",
   "execution_count": 4,
   "metadata": {},
   "outputs": [
    {
     "name": "stderr",
     "output_type": "stream",
     "text": [
      "2025/08/07 13:43:31 INFO mlflow.bedrock: Enabled auto-tracing for Bedrock. Note that MLflow can only trace boto3 service clients that are created after this call. If you have already created one, please recreate the client by calling `boto3.client`.\n",
      "2025/08/07 13:43:31 INFO mlflow.tracking.fluent: Autologging successfully enabled for boto3.\n",
      "2025/08/07 13:43:31 WARNING mlflow.utils.autologging_utils: MLflow sklearn autologging is known to be compatible with 0.24.1 <= scikit-learn <= 1.6.1, but the installed version is 1.7.0. If you encounter errors during autologging, try upgrading / downgrading scikit-learn to a compatible version, or try upgrading MLflow.\n",
      "2025/08/07 13:43:31 INFO mlflow.tracking.fluent: Autologging successfully enabled for sklearn.\n",
      "2025/08/07 13:43:31 WARNING mlflow.utils.autologging_utils: MLflow autologging encountered a warning: \"/Users/tawate/Documents/HousePredictionMLPipeline/.venv/lib/python3.12/site-packages/mlflow/types/utils.py:452: UserWarning: Hint: Inferred schema contains integer column(s). Integer columns in Python cannot represent missing values. If your input data contains missing values at inference time, it will be encoded as floats and will cause a schema enforcement error. The best way to avoid this problem is to infer the model schema based on a realistic data sample (training dataset) that includes missing values. Alternatively, you can declare integer columns as doubles (float64) whenever these columns may have missing values. See `Handling Integers With Missing Values <https://www.mlflow.org/docs/latest/models.html#handling-integers-with-missing-values>`_ for more details.\"\n",
      "2025/08/07 13:43:32 WARNING mlflow.utils.autologging_utils: MLflow autologging encountered a warning: \"/Users/tawate/Documents/HousePredictionMLPipeline/.venv/lib/python3.12/site-packages/mlflow/types/utils.py:452: UserWarning: Hint: Inferred schema contains integer column(s). Integer columns in Python cannot represent missing values. If your input data contains missing values at inference time, it will be encoded as floats and will cause a schema enforcement error. The best way to avoid this problem is to infer the model schema based on a realistic data sample (training dataset) that includes missing values. Alternatively, you can declare integer columns as doubles (float64) whenever these columns may have missing values. See `Handling Integers With Missing Values <https://www.mlflow.org/docs/latest/models.html#handling-integers-with-missing-values>`_ for more details.\"\n",
      "2025/08/07 13:43:36 WARNING mlflow.utils.autologging_utils: MLflow autologging encountered a warning: \"/Users/tawate/Documents/HousePredictionMLPipeline/.venv/lib/python3.12/site-packages/mlflow/types/utils.py:452: UserWarning: Hint: Inferred schema contains integer column(s). Integer columns in Python cannot represent missing values. If your input data contains missing values at inference time, it will be encoded as floats and will cause a schema enforcement error. The best way to avoid this problem is to infer the model schema based on a realistic data sample (training dataset) that includes missing values. Alternatively, you can declare integer columns as doubles (float64) whenever these columns may have missing values. See `Handling Integers With Missing Values <https://www.mlflow.org/docs/latest/models.html#handling-integers-with-missing-values>`_ for more details.\"\n"
     ]
    },
    {
     "name": "stdout",
     "output_type": "stream",
     "text": [
      "🏃 View run likeable-smelt-849 at: http://127.0.0.1:8080/#/experiments/126250616536704321/runs/0a91a847b42d451db806491e6f171389\n",
      "🧪 View experiment at: http://127.0.0.1:8080/#/experiments/126250616536704321\n"
     ]
    }
   ],
   "source": [
    "# Build Random Forest Regressor and Track with MLflow\n",
    "from sklearn.ensemble import RandomForestRegressor\n",
    "\n",
    "mlflow.set_tracking_uri(uri=\"http://127.0.0.1:8080\")\n",
    "mlflow.set_experiment(experiment_name=\"test_experiment\")\n",
    "mlflow.autolog()\n",
    "with mlflow.start_run():\n",
    "\n",
    "    # Initialize the Random Forest Regressor model\n",
    "    model = RandomForestRegressor()\n",
    "\n",
    "    # Train the model\n",
    "    model.fit(X_train, y_train)\n",
    "\n",
    "    # Model params\n",
    "    hpyerparameters = model.get_params()\n",
    "\n",
    "    # Make predictions on the validation set\n",
    "    y_pred = model.predict(X_val)"
   ]
  },
  {
   "cell_type": "code",
   "execution_count": 5,
   "metadata": {},
   "outputs": [
    {
     "name": "stderr",
     "output_type": "stream",
     "text": [
      "2025/08/07 13:43:37 INFO mlflow.bedrock: Enabled auto-tracing for Bedrock. Note that MLflow can only trace boto3 service clients that are created after this call. If you have already created one, please recreate the client by calling `boto3.client`.\n",
      "2025/08/07 13:43:37 INFO mlflow.tracking.fluent: Autologging successfully enabled for boto3.\n",
      "2025/08/07 13:43:37 WARNING mlflow.utils.autologging_utils: MLflow sklearn autologging is known to be compatible with 0.24.1 <= scikit-learn <= 1.6.1, but the installed version is 1.7.0. If you encounter errors during autologging, try upgrading / downgrading scikit-learn to a compatible version, or try upgrading MLflow.\n",
      "2025/08/07 13:43:38 INFO mlflow.tracking.fluent: Autologging successfully enabled for sklearn.\n",
      "2025/08/07 13:43:38 WARNING mlflow.utils.autologging_utils: MLflow autologging encountered a warning: \"/Users/tawate/Documents/HousePredictionMLPipeline/.venv/lib/python3.12/site-packages/mlflow/types/utils.py:452: UserWarning: Hint: Inferred schema contains integer column(s). Integer columns in Python cannot represent missing values. If your input data contains missing values at inference time, it will be encoded as floats and will cause a schema enforcement error. The best way to avoid this problem is to infer the model schema based on a realistic data sample (training dataset) that includes missing values. Alternatively, you can declare integer columns as doubles (float64) whenever these columns may have missing values. See `Handling Integers With Missing Values <https://www.mlflow.org/docs/latest/models.html#handling-integers-with-missing-values>`_ for more details.\"\n",
      "2025/08/07 13:43:38 WARNING mlflow.utils.autologging_utils: MLflow autologging encountered a warning: \"/Users/tawate/Documents/HousePredictionMLPipeline/.venv/lib/python3.12/site-packages/mlflow/types/utils.py:452: UserWarning: Hint: Inferred schema contains integer column(s). Integer columns in Python cannot represent missing values. If your input data contains missing values at inference time, it will be encoded as floats and will cause a schema enforcement error. The best way to avoid this problem is to infer the model schema based on a realistic data sample (training dataset) that includes missing values. Alternatively, you can declare integer columns as doubles (float64) whenever these columns may have missing values. See `Handling Integers With Missing Values <https://www.mlflow.org/docs/latest/models.html#handling-integers-with-missing-values>`_ for more details.\"\n",
      "2025/08/07 13:43:42 WARNING mlflow.utils.autologging_utils: MLflow autologging encountered a warning: \"/Users/tawate/Documents/HousePredictionMLPipeline/.venv/lib/python3.12/site-packages/mlflow/types/utils.py:452: UserWarning: Hint: Inferred schema contains integer column(s). Integer columns in Python cannot represent missing values. If your input data contains missing values at inference time, it will be encoded as floats and will cause a schema enforcement error. The best way to avoid this problem is to infer the model schema based on a realistic data sample (training dataset) that includes missing values. Alternatively, you can declare integer columns as doubles (float64) whenever these columns may have missing values. See `Handling Integers With Missing Values <https://www.mlflow.org/docs/latest/models.html#handling-integers-with-missing-values>`_ for more details.\"\n"
     ]
    },
    {
     "name": "stdout",
     "output_type": "stream",
     "text": [
      "🏃 View run adventurous-colt-292 at: http://127.0.0.1:8080/#/experiments/126250616536704321/runs/c0384a9ae02548ed85920623067352df\n",
      "🧪 View experiment at: http://127.0.0.1:8080/#/experiments/126250616536704321\n"
     ]
    }
   ],
   "source": [
    "# Build Gradient Boosting Regressor and Track with MLflow\n",
    "from sklearn.ensemble import GradientBoostingRegressor\n",
    "\n",
    "mlflow.set_tracking_uri(uri=\"http://127.0.0.1:8080\")\n",
    "mlflow.set_experiment(experiment_name=\"test_experiment\")\n",
    "mlflow.autolog()\n",
    "with mlflow.start_run():\n",
    "    # Initialize the Gradient Boosting Regressor model\n",
    "    model = GradientBoostingRegressor()\n",
    "\n",
    "    # Train the model\n",
    "    model.fit(X_train, y_train)\n",
    "\n",
    "    # Model params\n",
    "    hpyerparameters = model.get_params()\n",
    "\n",
    "    # Make predictions on the validation set\n",
    "    y_pred = model.predict(X_val)"
   ]
  },
  {
   "cell_type": "code",
   "execution_count": null,
   "metadata": {},
   "outputs": [],
   "source": []
  }
 ],
 "metadata": {
  "kernelspec": {
   "display_name": ".venv",
   "language": "python",
   "name": "python3"
  },
  "language_info": {
   "codemirror_mode": {
    "name": "ipython",
    "version": 3
   },
   "file_extension": ".py",
   "mimetype": "text/x-python",
   "name": "python",
   "nbconvert_exporter": "python",
   "pygments_lexer": "ipython3",
   "version": "3.12.10"
  }
 },
 "nbformat": 4,
 "nbformat_minor": 2
}
